{
  "cells": [
    {
      "cell_type": "markdown",
      "metadata": {},
      "source": [
        "# Notebook 3: Agentic RAG Pipeline\n",
        "\n",
        "**Objectives:**\n",
        "- Build 2-agent system using LangGraph (Retrieval Agent + Response Agent)\n",
        "- Create FastAPI backend with `/recommend` endpoint\n",
        "- Implement LangSmith logging for observability\n",
        "- Test end-to-end functionality\n",
        "\n",
        "**✅✅✅ Simplified Architecture:**\n",
        "- **Agent 1 (Retrieval):** Extracts filters → Searches Qdrant → Returns events\n",
        "- **Agent 2 (Response):** Formats events → Returns natural language response\n",
        "- **Linear flow:** No complex conditional logic needed\n",
        "\n",
        "---\n"
      ]
    },
    {
      "cell_type": "markdown",
      "metadata": {},
      "source": [
        "## Setup & Imports\n"
      ]
    },
    {
      "cell_type": "code",
      "execution_count": 1,
      "metadata": {},
      "outputs": [],
      "source": [
        "# Install required packages if needed\n",
        "# !pip install langchain langgraph langsmith openai fastapi uvicorn pydantic\n"
      ]
    },
    {
      "cell_type": "code",
      "execution_count": 2,
      "metadata": {},
      "outputs": [
        {
          "name": "stdout",
          "output_type": "stream",
          "text": [
            "✅ Imports successful!\n",
            "OpenAI API Key: ✓\n",
            "LangSmith API Key: ✓\n",
            "LangSmith Tracing: Enabled\n"
          ]
        }
      ],
      "source": [
        "import os\n",
        "import sys\n",
        "import json\n",
        "from pathlib import Path\n",
        "from typing import Dict, List, Any, TypedDict\n",
        "from dotenv import load_dotenv\n",
        "\n",
        "# LangChain imports\n",
        "from langchain_openai import ChatOpenAI\n",
        "from langchain_core.messages import HumanMessage, SystemMessage\n",
        "from langgraph.graph import StateGraph, END\n",
        "\n",
        "# Add backend to path for imports\n",
        "sys.path.append(str(Path(\"..\").resolve()))\n",
        "from backend.vector_store import VectorStore\n",
        "\n",
        "# Load environment variables\n",
        "load_dotenv()\n",
        "\n",
        "# Configure LangSmith\n",
        "os.environ[\"LANGCHAIN_TRACING_V2\"] = \"true\"\n",
        "os.environ[\"LANGCHAIN_PROJECT\"] = \"nyc-event-recommender\"\n",
        "os.environ[\"LANGCHAIN_ENDPOINT\"] = \"https://api.smith.langchain.com\"\n",
        "os.environ[\"LANGCHAIN_API_KEY\"] = os.getenv(\"LANGCHAIN_API_KEY\")\n",
        "\n",
        "print(\"✅ Imports successful!\")\n",
        "print(f\"OpenAI API Key: {'✓' if os.getenv('OPENAI_API_KEY') else '✗'}\")\n",
        "print(f\"LangSmith API Key: {'✓' if os.getenv('LANGCHAIN_API_KEY') else '✗'}\")\n",
        "print(f\"LangSmith Tracing: {'Enabled' if os.getenv('LANGCHAIN_TRACING_V2') == 'true' else 'Disabled'}\")\n"
      ]
    },
    {
      "cell_type": "markdown",
      "metadata": {},
      "source": [
        "## 1. Agent Architecture Design\n",
        "\n",
        "**✅✅✅ 2-Agent System Overview:**\n",
        "\n",
        "```\n",
        "┌─────────────┐\n",
        "│ User Query  │\n",
        "└──────┬──────┘\n",
        "       │\n",
        "       ▼\n",
        "┌─────────────────────────────┐\n",
        "│  RETRIEVAL AGENT            │\n",
        "│  - Extract filters from     │\n",
        "│    query (baby_friendly,    │\n",
        "│    price, category, etc.)   │\n",
        "│  - Embed query              │\n",
        "│  - Search Qdrant            │\n",
        "│  - Return top-K events      │\n",
        "└──────┬──────────────────────┘\n",
        "       │\n",
        "       ▼\n",
        "┌─────────────────────────────┐\n",
        "│  RESPONSE AGENT             │\n",
        "│  - Format events naturally  │\n",
        "│  - Highlight key details    │\n",
        "│  - Return markdown response │\n",
        "└──────┬──────────────────────┘\n",
        "       │\n",
        "       ▼\n",
        "┌─────────────┐\n",
        "│   Output    │\n",
        "└─────────────┘\n",
        "```\n",
        "\n",
        "**Why 2 Agents?**\n",
        "- **Separation of concerns:** Retrieval logic vs. formatting logic\n",
        "- **Easier to debug:** Can test each agent independently\n",
        "- **Faster:** No complex routing or conditional logic\n",
        "- **Sufficient:** Semantic search handles nuance; no need for query planning agent\n",
        "\n",
        "**Agentic Reasoning:**\n",
        "- **Retrieval Agent:** Uses LLM to intelligently extract filters from natural language\n",
        "- **Response Agent:** Uses LLM to format output conversationally\n",
        "\n",
        "---\n"
      ]
    },
    {
      "cell_type": "markdown",
      "metadata": {},
      "source": [
        "## 2. Define State Schema\n"
      ]
    },
    {
      "cell_type": "code",
      "execution_count": 3,
      "metadata": {},
      "outputs": [
        {
          "name": "stdout",
          "output_type": "stream",
          "text": [
            "✅ State schema defined!\n"
          ]
        }
      ],
      "source": [
        "class AgentState(TypedDict):\n",
        "    \"\"\"State passed between agents in the pipeline.\"\"\"\n",
        "    query: str                          # Original user query\n",
        "    filters: Dict[str, Any]             # Extracted metadata filters\n",
        "    retrieved_events: List[Dict]        # Events from Qdrant\n",
        "    response: str                       # Final formatted response\n",
        "    \n",
        "print(\"✅ State schema defined!\")\n"
      ]
    },
    {
      "cell_type": "markdown",
      "metadata": {},
      "source": [
        "## 3. Agent 1: Retrieval Agent\n",
        "\n",
        "**Responsibilities:**\n",
        "1. Extract metadata filters from query (baby_friendly, price, etc.)\n",
        "2. Embed the query\n",
        "3. Search Qdrant with semantic search + filters\n",
        "4. Return top-K relevant events\n"
      ]
    },
    {
      "cell_type": "code",
      "execution_count": 5,
      "metadata": {},
      "outputs": [
        {
          "name": "stdout",
          "output_type": "stream",
          "text": [
            "✅ Retrieval Agent defined!\n"
          ]
        }
      ],
      "source": [
        "# Initialize components\n",
        "llm = ChatOpenAI(model=\"gpt-4o-mini\", temperature=0)\n",
        "vector_store = VectorStore(path=\"../local_qdrant\")\n",
        "\n",
        "def retrieval_agent(state: AgentState) -> AgentState:\n",
        "    \"\"\"\n",
        "    Agent 1: Extract filters and retrieve relevant events.\n",
        "    \"\"\"\n",
        "    query = state[\"query\"]\n",
        "    \n",
        "    # Step 1: Extract filters using LLM\n",
        "    filter_prompt = f\"\"\"Given this user query about NYC events, extract any explicit filters.\n",
        "\n",
        "Query: \"{query}\"\n",
        "\n",
        "Return JSON with these optional filters:\n",
        "- baby_friendly: true/false (if query mentions babies, infants, toddlers, strollers, kids, family-friendly)\n",
        "- price: \"free\" (only if query explicitly mentions free)\n",
        "\n",
        "If a filter is not mentioned, omit it from the JSON.\n",
        "\n",
        "Examples:\n",
        "- \"baby-friendly museum\" → {{\"baby_friendly\": true}}\n",
        "- \"free outdoor event\" → {{\"price\": \"free\"}}\n",
        "- \"romantic date night\" → {{}}\n",
        "- \"stroller-accessible park\" → {{\"baby_friendly\": true}}\n",
        "\n",
        "Return ONLY valid JSON, no explanations.\"\"\"\n",
        "\n",
        "    try:\n",
        "        filter_response = llm.invoke([\n",
        "            SystemMessage(content=\"You extract metadata filters from user queries. Always return valid JSON.\"),\n",
        "            HumanMessage(content=filter_prompt)\n",
        "        ])\n",
        "        \n",
        "        filters = json.loads(filter_response.content)\n",
        "        print(f\"🔍 Extracted filters: {filters}\")\n",
        "    except Exception as e:\n",
        "        print(f\"⚠️  Filter extraction failed: {e}. Using no filters.\")\n",
        "        filters = {}\n",
        "    \n",
        "    # Step 2: Search vector store\n",
        "    search_results = vector_store.search_events(\n",
        "        query=query,\n",
        "        top_k=10,\n",
        "        filters=filters if filters else None\n",
        "    )\n",
        "    \n",
        "    print(f\"✅ Retrieved {len(search_results)} events\")\n",
        "    \n",
        "    # Update state\n",
        "    state[\"filters\"] = filters\n",
        "    state[\"retrieved_events\"] = search_results\n",
        "    \n",
        "    return state\n",
        "\n",
        "print(\"✅ Retrieval Agent defined!\")\n"
      ]
    },
    {
      "cell_type": "markdown",
      "metadata": {},
      "source": [
        "## 4. Agent 2: Response Agent\n",
        "\n",
        "**Responsibilities:**\n",
        "1. Take retrieved events\n",
        "2. Format them naturally using GPT-4\n",
        "3. Highlight key details (title, description, baby-friendliness, URL)\n",
        "4. Return markdown-formatted response\n"
      ]
    },
    {
      "cell_type": "code",
      "execution_count": 6,
      "metadata": {},
      "outputs": [
        {
          "name": "stdout",
          "output_type": "stream",
          "text": [
            "✅ Response Agent defined!\n"
          ]
        }
      ],
      "source": [
        "def response_agent(state: AgentState) -> AgentState:\n",
        "    \"\"\"\n",
        "    Agent 2: Format retrieved events into natural language response.\n",
        "    \"\"\"\n",
        "    query = state[\"query\"]\n",
        "    events = state[\"retrieved_events\"]\n",
        "    \n",
        "    if not events:\n",
        "        state[\"response\"] = \"I couldn't find any events matching your criteria. Try broadening your search!\"\n",
        "        return state\n",
        "    \n",
        "    # Prepare event context for LLM\n",
        "    event_context = \"\"\n",
        "    for i, result in enumerate(events[:5], 1):  # Top 5 events\n",
        "        event = result[\"event\"]\n",
        "        score = result[\"score\"]\n",
        "        event_context += f\"\"\"\n",
        "Event {i}:\n",
        "- Title: {event['title']}\n",
        "- Description: {event['description'][:200]}...\n",
        "- Baby-Friendly: {'Yes' if event['baby_friendly'] else 'No'}\n",
        "- URL: {event['url']}\n",
        "- Relevance Score: {score:.2f}\n",
        "\n",
        "\"\"\"\n",
        "    \n",
        "    # Generate response\n",
        "    response_prompt = f\"\"\"You are a helpful NYC event recommender assistant.\n",
        "\n",
        "User Query: \"{query}\"\n",
        "\n",
        "Here are the top events I found:\n",
        "{event_context}\n",
        "\n",
        "Task: Write a friendly, conversational response recommending these events. Include:\n",
        "1. A brief intro acknowledging their query\n",
        "2. Top 3-5 events with titles, brief descriptions, and key details\n",
        "3. Mention if events are baby-friendly when relevant\n",
        "4. Include URLs for more info\n",
        "5. End with an encouraging note\n",
        "\n",
        "Format in markdown. Be enthusiastic but concise!\"\"\"\n",
        "\n",
        "    response_message = llm.invoke([\n",
        "        SystemMessage(content=\"You are a friendly NYC event recommendation assistant. Be helpful and enthusiastic!\"),\n",
        "        HumanMessage(content=response_prompt)\n",
        "    ])\n",
        "    \n",
        "    state[\"response\"] = response_message.content\n",
        "    print(\"✅ Response generated!\")\n",
        "    \n",
        "    return state\n",
        "\n",
        "print(\"✅ Response Agent defined!\")\n"
      ]
    },
    {
      "cell_type": "markdown",
      "metadata": {},
      "source": [
        "## 5. Build LangGraph Pipeline\n",
        "\n",
        "Connect the two agents in a linear flow with LangSmith tracing.\n"
      ]
    },
    {
      "cell_type": "code",
      "execution_count": 7,
      "metadata": {},
      "outputs": [
        {
          "name": "stdout",
          "output_type": "stream",
          "text": [
            "✅ LangGraph pipeline compiled!\n",
            "\n",
            "Pipeline flow: retrieval → response → END\n"
          ]
        }
      ],
      "source": [
        "# Build the graph\n",
        "workflow = StateGraph(AgentState)\n",
        "\n",
        "# Add nodes\n",
        "workflow.add_node(\"retrieval\", retrieval_agent)\n",
        "workflow.add_node(\"response\", response_agent)\n",
        "\n",
        "# Define edges (linear flow)\n",
        "workflow.set_entry_point(\"retrieval\")\n",
        "workflow.add_edge(\"retrieval\", \"response\")\n",
        "workflow.add_edge(\"response\", END)\n",
        "\n",
        "# Compile the graph\n",
        "app = workflow.compile()\n",
        "\n",
        "print(\"✅ LangGraph pipeline compiled!\")\n",
        "print(\"\\nPipeline flow: retrieval → response → END\")\n"
      ]
    },
    {
      "cell_type": "code",
      "execution_count": 8,
      "metadata": {},
      "outputs": [
        {
          "name": "stdout",
          "output_type": "stream",
          "text": [
            "\n",
            "============================================================\n",
            "PIPELINE VISUALIZATION\n",
            "============================================================\n",
            "\n",
            "    START\n",
            "      ↓\n",
            "┌─────────────────┐\n",
            "│  retrieval      │ ← Agent 1: Extract filters & search Qdrant\n",
            "└────────┬────────┘\n",
            "         ↓\n",
            "┌─────────────────┐\n",
            "│  response       │ ← Agent 2: Format events into response\n",
            "└────────┬────────┘\n",
            "         ↓\n",
            "       END\n",
            "\n",
            "Nodes: 2 agents\n",
            "Edges: Linear (no conditional routing)\n",
            "State Flow: query → filters → retrieved_events → response\n",
            "LangSmith Tracing: Enabled\n",
            "\n"
          ]
        },
        {
          "data": {
            "image/png": "[encoded data removed]",
            "text/plain": [
              "<IPython.core.display.Image object>"
            ]
          },
          "metadata": {},
          "output_type": "display_data"
        },
        {
          "name": "stdout",
          "output_type": "stream",
          "text": [
            "✅ Graph visualization above (if graphviz is installed)\n"
          ]
        }
      ],
      "source": [
        "# Visualize the pipeline\n",
        "print(\"\\n\" + \"=\"*60)\n",
        "print(\"PIPELINE VISUALIZATION\")\n",
        "print(\"=\"*60)\n",
        "print(\"\"\"\n",
        "    START\n",
        "      ↓\n",
        "┌─────────────────┐\n",
        "│  retrieval      │ ← Agent 1: Extract filters & search Qdrant\n",
        "└────────┬────────┘\n",
        "         ↓\n",
        "┌─────────────────┐\n",
        "│  response       │ ← Agent 2: Format events into response\n",
        "└────────┬────────┘\n",
        "         ↓\n",
        "       END\n",
        "\n",
        "Nodes: 2 agents\n",
        "Edges: Linear (no conditional routing)\n",
        "State Flow: query → filters → retrieved_events → response\n",
        "LangSmith Tracing: Enabled\n",
        "\"\"\")\n",
        "\n",
        "# Try to display the graph if graphviz is available\n",
        "try:\n",
        "    from IPython.display import Image, display\n",
        "    display(Image(app.get_graph().draw_mermaid_png()))\n",
        "    print(\"✅ Graph visualization above (if graphviz is installed)\")\n",
        "except Exception as e:\n",
        "    print(f\"ℹ️  Graph visualization unavailable (install graphviz for visual graph): {type(e).__name__}\")\n"
      ]
    },
    {
      "cell_type": "markdown",
      "metadata": {},
      "source": [
        "## 6. Test the Pipeline\n",
        "\n",
        "Test with multiple queries to verify end-to-end functionality.\n"
      ]
    },
    {
      "cell_type": "code",
      "execution_count": 10,
      "metadata": {},
      "outputs": [
        {
          "name": "stdout",
          "output_type": "stream",
          "text": [
            "✅ Pipeline runner defined!\n"
          ]
        }
      ],
      "source": [
        "def run_pipeline(query: str) -> str:\n",
        "    \"\"\"\n",
        "    Run the agentic RAG pipeline end-to-end.\n",
        "    \"\"\"\n",
        "    print(f\"\\n{'='*60}\")\n",
        "    print(f\"QUERY: {query}\")\n",
        "    print(f\"{'='*60}\\n\")\n",
        "    \n",
        "    initial_state = {\n",
        "        \"query\": query,\n",
        "        \"filters\": {},\n",
        "        \"retrieved_events\": [],\n",
        "        \"response\": \"\"\n",
        "    }\n",
        "    \n",
        "    # Run the pipeline (with LangSmith tracing)\n",
        "    final_state = app.invoke(initial_state)\n",
        "    \n",
        "    return final_state[\"response\"]\n",
        "\n",
        "print(\"✅ Pipeline runner defined!\")\n"
      ]
    },
    {
      "cell_type": "code",
      "execution_count": 12,
      "metadata": {},
      "outputs": [
        {
          "name": "stdout",
          "output_type": "stream",
          "text": [
            "\n",
            "============================================================\n",
            "QUERY: What's this Saturday that's baby-friendly?\n",
            "============================================================\n",
            "\n",
            "🔍 Extracted filters: {'baby_friendly': True}\n",
            "✅ Retrieved 10 events\n",
            "✅ Response generated!\n",
            "\n",
            "============================================================\n",
            "RESPONSE:\n",
            "============================================================\n",
            "\n"
          ]
        },
        {
          "data": {
            "text/markdown": [
              "Absolutely! I’m thrilled to help you find some baby-friendly events happening this Saturday in NYC! Here are some fantastic options for you and your little one:\n",
              "\n",
              "### 1. **30.BUBS Candy \"Sweeteasy\" Pop-Up**\n",
              "Indulge in the Swedish tradition of \"lördagsgodis\" at this delightful candy pop-up! It's a sweet way to enjoy some treats together.  \n",
              "**Baby-Friendly:** Yes  \n",
              "[More Info Here](https://www.timeout.com/newyork/things-to-do/bubs-candy-sweeteasy-pop-up)\n",
              "\n",
              "### 2. **15.Ascarium at the New York Aquarium**\n",
              "Dive into a world of marine magic! The Ascarium features under-the-sea animals, magic shows, Halloween crafts, and a costume parade. Perfect for little explorers!  \n",
              "**Baby-Friendly:** Yes  \n",
              "[More Info Here](https://www.timeout.com/newyork/things-to-do/ascarium-at-the-new-york-aquarium)\n",
              "\n",
              "### 3. **16.Bronx Zoo Harvest Glow**\n",
              "Experience the Bronx Zoo like never before with its enchanting nighttime celebration! Enjoy family-friendly activities and see the zoo in a whole new light.  \n",
              "**Baby-Friendly:** Yes  \n",
              "[More Info Here](https://www.timeout.com/newyork/things-to-do/bronx-zoo-harvest-glow)\n",
              "\n",
              "### 4. **64.Smorgasburg**\n",
              "Head to Smorgasburg, the ultimate food bazaar! With a variety of local vendors, you can enjoy delicious bites while your baby takes in the sights and sounds.  \n",
              "**Baby-Friendly:** Yes  \n",
              "[More Info Here](https://www.timeout.com/newyork/restaurants/smorgasburg-guide)\n",
              "\n",
              "These events are sure to create wonderful memories for you and your little one! Enjoy your Saturday filled with fun and adventure! 🌟"
            ],
            "text/plain": [
              "<IPython.core.display.Markdown object>"
            ]
          },
          "metadata": {},
          "output_type": "display_data"
        }
      ],
      "source": [
        "# Test 1: Baby-friendly query\n",
        "from IPython.display import Markdown, display\n",
        "\n",
        "query1 = \"What's this Saturday that's baby-friendly?\"\n",
        "response1 = run_pipeline(query1)\n",
        "\n",
        "print(\"\\n\" + \"=\"*60)\n",
        "print(\"RESPONSE:\")\n",
        "print(\"=\"*60 + \"\\n\")\n",
        "display(Markdown(response1))\n"
      ]
    },
    {
      "cell_type": "code",
      "execution_count": 13,
      "metadata": {},
      "outputs": [
        {
          "name": "stdout",
          "output_type": "stream",
          "text": [
            "\n",
            "============================================================\n",
            "QUERY: Romantic date night near a museum\n",
            "============================================================\n",
            "\n",
            "🔍 Extracted filters: {}\n",
            "✅ Retrieved 10 events\n",
            "✅ Response generated!\n",
            "\n",
            "============================================================\n",
            "RESPONSE:\n",
            "============================================================\n",
            "\n"
          ]
        },
        {
          "data": {
            "text/markdown": [
              "Absolutely! I’d love to help you find the perfect romantic date night near a museum in NYC. Here are some fantastic options that will surely set the mood for a lovely evening:\n",
              "\n",
              "### 1. **\"Monet and Venice\" at Brooklyn Museum**\n",
              "   - **Description:** Dive into the enchanting world of Venice through Claude Monet's iconic paintings. This exhibit is a rare reunion of his masterpieces that beautifully capture the essence of the floating city.\n",
              "   - **Baby-Friendly:** Yes\n",
              "   - **More Info:** [Brooklyn Museum - Monet and Venice](https://www.timeout.com/newyork/news/first-look-discover-the-serenity-of-venice-through-nycs-largest-monet-show-in-25-years-100825)\n",
              "\n",
              "### 2. **MoMA Before Hours Tour**\n",
              "   - **Description:** Experience the Museum of Modern Art like never before! Enjoy exclusive access to precious artworks without the crowds, allowing you to admire the brushstrokes and details up close.\n",
              "   - **Baby-Friendly:** No\n",
              "   - **More Info:** [MoMA Before Hours Tour](https://www.timeout.com/newyork/news/see-precious-artworks-at-moma-before-the-crowds-at-these-exclusive-new-tours-050323)\n",
              "\n",
              "### 3. **43.Arte Museum**\n",
              "   - **Description:** Immerse yourselves in a multi-sensory journey at the new Arte Museum, featuring digital art, soundscapes, and custom-crafted scents. It's a unique experience that transcends traditional art viewing!\n",
              "   - **Baby-Friendly:** Yes\n",
              "   - **More Info:** [Arte Museum](https://www.timeout.com/newyork/art/arte-museum)\n",
              "\n",
              "These events offer a blend of art, romance, and a touch of magic, perfect for a memorable date night! Enjoy your evening, and don’t hesitate to reach out if you need more recommendations. Have a wonderful time! 🌟"
            ],
            "text/plain": [
              "<IPython.core.display.Markdown object>"
            ]
          },
          "metadata": {},
          "output_type": "display_data"
        }
      ],
      "source": [
        "# Test 2: Romantic/vibe query (semantic search shines here!)\n",
        "query2 = \"Romantic date night near a museum\"\n",
        "response2 = run_pipeline(query2)\n",
        "\n",
        "print(\"\\n\" + \"=\"*60)\n",
        "print(\"RESPONSE:\")\n",
        "print(\"=\"*60 + \"\\n\")\n",
        "display(Markdown(response2))\n"
      ]
    },
    {
      "cell_type": "code",
      "execution_count": 14,
      "metadata": {},
      "outputs": [
        {
          "name": "stdout",
          "output_type": "stream",
          "text": [
            "\n",
            "============================================================\n",
            "QUERY: High-energy outdoor activity with friends\n",
            "============================================================\n",
            "\n",
            "🔍 Extracted filters: {}\n",
            "✅ Retrieved 10 events\n",
            "✅ Response generated!\n",
            "\n",
            "============================================================\n",
            "RESPONSE:\n",
            "============================================================\n",
            "\n"
          ]
        },
        {
          "data": {
            "text/markdown": [
              "Hey there! 🌟 It sounds like you're looking for some high-energy outdoor activities to enjoy with your friends in NYC! I've got some fantastic options for you that are sure to get your adrenaline pumping and create some unforgettable memories. Check these out:\n",
              "\n",
              "### 1. Laser Tag at Mini-Bowling at Area 53\n",
              "Dive into a thrilling experience at Area 53, where you can enjoy laser tag, mini-bowling, and arcade games all in one place! It's a fun-filled environment perfect for a competitive day out with friends.\n",
              "- **Baby-Friendly:** No\n",
              "- [More Info](https://www.timeout.com/newyork/things-to-do/area-53)\n",
              "\n",
              "### 2. Longest Table at Gotham Park\n",
              "Join a community potluck under the iconic Brooklyn Bridge! Bring your favorite dish and enjoy dining al fresco with friends while soaking in the beautiful views. It's a unique way to connect with others and enjoy the outdoors.\n",
              "- **Baby-Friendly:** Yes\n",
              "- [More Info](https://www.timeout.com/newyork/news/a-crazy-long-community-potluck-table-will-be-stretching-out-underneath-the-brooklyn-bridge-next-weekand-its-free-to-join-100725)\n",
              "\n",
              "### 3. Wild Captives Archery Studio\n",
              "Channel your inner Katniss Everdeen at this empowering archery studio in Brooklyn! It's a fantastic way to bond with friends while learning a new skill in a supportive environment.\n",
              "- **Baby-Friendly:** No\n",
              "- [More Info](https://www.timeout.com/newyork/news/channel-your-inner-katniss-everdeen-at-the-nations-first-woman-owned-archery-range-072623)\n",
              "\n",
              "### 4. Act & Sip NYC\n",
              "If you're looking for something a bit different, try this beer-fueled acting workshop in an Off-Broadway theater! It's a fun way to unleash your creativity and enjoy a night out with friends.\n",
              "- **Baby-Friendly:** No\n",
              "- [More Info](https://www.timeout.com/newyork/things-to-do/act-sip-nyc)\n",
              "\n",
              "### 5. Latin Mix Saturdays\n",
              "Get ready to dance the night away at Time Out Market’s Rooftop Latin Mix Party! Enjoy reggaetón, salsa, and more with a vibrant crowd. It's the perfect way to let loose and have a blast with friends.\n",
              "- **Baby-Friendly:** No\n",
              "- [More Info](https://www.timeout.com/time-out-market-new-york/time-out-market/latin-mix-saturdays)\n",
              "\n",
              "I hope one of these events sparks your interest! Have an amazing time with your friends, and enjoy all the energy NYC has to offer! 🎉"
            ],
            "text/plain": [
              "<IPython.core.display.Markdown object>"
            ]
          },
          "metadata": {},
          "output_type": "display_data"
        }
      ],
      "source": [
        "# Test 3: High-energy activity\n",
        "query3 = \"High-energy outdoor activity with friends\"\n",
        "response3 = run_pipeline(query3)\n",
        "\n",
        "print(\"\\n\" + \"=\"*60)\n",
        "print(\"RESPONSE:\")\n",
        "print(\"=\"*60 + \"\\n\")\n",
        "display(Markdown(response3))\n"
      ]
    },
    {
      "cell_type": "code",
      "execution_count": 15,
      "metadata": {},
      "outputs": [
        {
          "name": "stdout",
          "output_type": "stream",
          "text": [
            "\n",
            "============================================================\n",
            "QUERY: Relaxing cultural event for adults\n",
            "============================================================\n",
            "\n",
            "🔍 Extracted filters: {}\n",
            "✅ Retrieved 10 events\n",
            "✅ Response generated!\n",
            "\n",
            "============================================================\n",
            "RESPONSE:\n",
            "============================================================\n",
            "\n"
          ]
        },
        {
          "data": {
            "text/markdown": [
              "Absolutely! I’d love to help you find a relaxing cultural event in NYC. Here are some fantastic options that you might enjoy:\n",
              "\n",
              "### 1. **43.Arte Museum**\n",
              "Dive into a world of immersive digital art, captivating soundscapes, and custom-crafted scents at the new Arte Museum. It promises a multi-sensory journey that will transport you beyond time and space. Perfect for a serene outing!\n",
              "- **Baby-Friendly:** Yes\n",
              "- [More Info](https://www.timeout.com/newyork/art/arte-museum)\n",
              "\n",
              "### 2. **Lincoln Center's Festival of Firsts**\n",
              "Join the celebration of bold and innovative art at Lincoln Center! This free festival runs through October 23 at the David Rubenstein Atrium, showcasing exciting new performances and installations. No ticket required!\n",
              "- **Baby-Friendly:** Yes\n",
              "- [More Info](https://www.timeout.com/newyork/news/lincoln-center-just-announced-a-massive-free-culture-festival-this-month-and-it-looks-pretty-great-092925)\n",
              "\n",
              "### 3. **Queens Night Market**\n",
              "Experience the vibrant flavors of NYC at the Queens Night Market! For just $5-6, you can sample some of the best eats from local vendors. It’s a delightful way to enjoy food and culture in a relaxed atmosphere.\n",
              "- **Baby-Friendly:** Yes\n",
              "- [More Info](https://www.timeout.com/newyork/things-to-do/queens-night-market-1)\n",
              "\n",
              "### 4. **Handmade Happy Hour**\n",
              "Unleash your creativity with a pottery class at Greenwich House Pottery! This Friday night happy hour is perfect for beginners looking to get their hands dirty and unwind with some art.\n",
              "- **Baby-Friendly:** No\n",
              "- [More Info](https://www.timeout.com/newyork/things-to-do/handmade-happy-hour)\n",
              "\n",
              "### 5. **Act & Sip NYC**\n",
              "If you’re looking for something a bit different, try Act & Sip! This unique beer-fueled acting workshop in an Off-Broadway Theater combines creativity with a fun atmosphere. Perfect for those who want to explore their artistic side!\n",
              "- **Baby-Friendly:** No\n",
              "- [More Info](https://www.timeout.com/newyork/things-to-do/act-sip-nyc)\n",
              "\n",
              "I hope one of these events catches your eye! Enjoy your cultural adventure in the city! 🌟"
            ],
            "text/plain": [
              "<IPython.core.display.Markdown object>"
            ]
          },
          "metadata": {},
          "output_type": "display_data"
        }
      ],
      "source": [
        "# Test 4: Relaxing cultural event\n",
        "query4 = \"Relaxing cultural event for adults\"\n",
        "response4 = run_pipeline(query4)\n",
        "\n",
        "print(\"\\n\" + \"=\"*60)\n",
        "print(\"RESPONSE:\")\n",
        "print(\"=\"*60 + \"\\n\")\n",
        "display(Markdown(response4))\n"
      ]
    },
    {
      "cell_type": "code",
      "execution_count": 16,
      "metadata": {},
      "outputs": [
        {
          "name": "stdout",
          "output_type": "stream",
          "text": [
            "\n",
            "============================================================\n",
            "QUERY: Kid-friendly museum activity\n",
            "============================================================\n",
            "\n",
            "🔍 Extracted filters: {'baby_friendly': True}\n",
            "✅ Retrieved 10 events\n",
            "✅ Response generated!\n",
            "\n",
            "============================================================\n",
            "RESPONSE:\n",
            "============================================================\n",
            "\n"
          ]
        },
        {
          "data": {
            "text/markdown": [
              "Absolutely! I’m thrilled to help you find some fantastic kid-friendly museum activities in NYC! Here are some exciting options that your little ones will love:\n",
              "\n",
              "### 1. **Ascarium at the New York Aquarium**\n",
              "Dive into a marine wonderland at the New York Aquarium's Ascarium! Kids can enjoy magical shows, Halloween crafts, a scavenger hunt, a costume parade, and more! It’s a perfect blend of fun and learning about under-the-sea creatures.\n",
              "- **Baby-Friendly:** Yes\n",
              "- [More Info](https://www.timeout.com/newyork/things-to-do/ascarium-at-the-new-york-aquarium)\n",
              "\n",
              "### 2. **Sloomoo Institute Slime Museum**\n",
              "Get ready for a gooey adventure at the Sloomoo Institute! This newly renovated slime museum is a sensory playground where kids can explore colorful slime creations and enjoy interactive exhibits. It’s a delightful experience for all ages!\n",
              "- **Baby-Friendly:** Yes\n",
              "- [More Info](https://www.timeout.com/newyork/news/5-things-to-do-at-sloomoos-newly-renovated-slime-museum-in-soho-092322)\n",
              "\n",
              "### 3. **The Big Bubble Experiment at NYSCI**\n",
              "Bubbles, bubbles everywhere! The New York Hall of Science has brought back its beloved bubble exhibit, now bigger and better than ever. Kids will be mesmerized by the science of bubbles and can even participate in hands-on activities!\n",
              "- **Baby-Friendly:** Yes\n",
              "- [More Info](https://www.timeout.com/newyork/news/new-york-hall-of-science-debuts-the-new-big-bubble-experiment-111023)\n",
              "\n",
              "### 4. **Arte Museum**\n",
              "Step into a world of immersive digital art at the Arte Museum! This multi-sensory experience combines stunning visuals, soundscapes, and even custom scents, making it a captivating journey for kids and adults alike.\n",
              "- **Baby-Friendly:** Yes\n",
              "- [More Info](https://www.timeout.com/newyork/art/arte-museum)\n",
              "\n",
              "### 5. **The Amazing Maize Maze**\n",
              "Celebrate fall with a fun-filled adventure at the Queens County Farm Museum! The Amazing Maize Maze is a three-acre labyrinth that promises a day of exploration and excitement for the whole family.\n",
              "- **Baby-Friendly:** Yes\n",
              "- [More Info](https://www.timeout.com/newyork/news/the-amazing-maize-maze-is-back-in-queens-this-fall-with-a-tricky-three-acre-labyrinth-101025)\n",
              "\n",
              "I hope you find these events as exciting as I do! Enjoy your time exploring and making wonderful memories with your kids! 🌟"
            ],
            "text/plain": [
              "<IPython.core.display.Markdown object>"
            ]
          },
          "metadata": {},
          "output_type": "display_data"
        }
      ],
      "source": [
        "# Test 5: Kid-friendly museum\n",
        "query5 = \"Kid-friendly museum activity\"\n",
        "response5 = run_pipeline(query5)\n",
        "\n",
        "print(\"\\n\" + \"=\"*60)\n",
        "print(\"RESPONSE:\")\n",
        "print(\"=\"*60 + \"\\n\")\n",
        "display(Markdown(response5))\n"
      ]
    },
    {
      "cell_type": "markdown",
      "metadata": {},
      "source": [
        "## 7. Create Backend Files\n",
        "\n",
        "Now we'll create the production-ready backend files for FastAPI.\n"
      ]
    },
    {
      "cell_type": "markdown",
      "metadata": {},
      "source": [
        "### 7.1 Create `backend/agents.py`\n"
      ]
    },
    {
      "cell_type": "code",
      "execution_count": 17,
      "metadata": {},
      "outputs": [
        {
          "name": "stdout",
          "output_type": "stream",
          "text": [
            "✅ Created ../backend/agents.py\n",
            "\n",
            "Module includes:\n",
            "  - AgentState (TypedDict)\n",
            "  - EventRecommenderPipeline class\n",
            "  - retrieval_agent()\n",
            "  - response_agent()\n",
            "  - run() method for end-to-end execution\n"
          ]
        }
      ],
      "source": [
        "agents_code = '''\"\"\"Agentic RAG pipeline for NYC Event Recommender.\n",
        "\n",
        "This module implements a 2-agent system:\n",
        "1. Retrieval Agent: Extracts filters and retrieves relevant events\n",
        "2. Response Agent: Formats events into natural language responses\n",
        "\"\"\"\n",
        "\n",
        "import os\n",
        "import json\n",
        "from typing import Dict, List, Any, TypedDict\n",
        "from langchain_openai import ChatOpenAI\n",
        "from langchain_core.messages import HumanMessage, SystemMessage\n",
        "from langgraph.graph import StateGraph, END\n",
        "from backend.vector_store import VectorStore\n",
        "\n",
        "\n",
        "class AgentState(TypedDict):\n",
        "    \"\"\"State passed between agents in the pipeline.\"\"\"\n",
        "    query: str\n",
        "    filters: Dict[str, Any]\n",
        "    retrieved_events: List[Dict]\n",
        "    response: str\n",
        "\n",
        "\n",
        "class EventRecommenderPipeline:\n",
        "    \"\"\"2-agent RAG pipeline for event recommendations.\"\"\"\n",
        "    \n",
        "    def __init__(self, qdrant_path: str = \"./local_qdrant\"):\n",
        "        \"\"\"Initialize the pipeline with LLM and vector store.\"\"\"\n",
        "        self.llm = ChatOpenAI(model=\"gpt-4o-mini\", temperature=0)\n",
        "        self.vector_store = VectorStore(path=qdrant_path)\n",
        "        self.app = self._build_graph()\n",
        "    \n",
        "    def retrieval_agent(self, state: AgentState) -> AgentState:\n",
        "        \"\"\"Agent 1: Extract filters and retrieve relevant events.\"\"\"\n",
        "        query = state[\"query\"]\n",
        "        \n",
        "        # Extract filters using LLM\n",
        "        filter_prompt = f\"\"\"Given this user query about NYC events, extract any explicit filters.\n",
        "\n",
        "Query: \"{query}\"\n",
        "\n",
        "Return JSON with these optional filters:\n",
        "- baby_friendly: true/false (if query mentions babies, infants, toddlers, strollers, kids, family-friendly)\n",
        "- price: \"free\" (only if query explicitly mentions free)\n",
        "\n",
        "If a filter is not mentioned, omit it from the JSON.\n",
        "\n",
        "Examples:\n",
        "- \"baby-friendly museum\" → {{\"baby_friendly\": true}}\n",
        "- \"free outdoor event\" → {{\"price\": \"free\"}}\n",
        "- \"romantic date night\" → {{}}\n",
        "- \"stroller-accessible park\" → {{\"baby_friendly\": true}}\n",
        "\n",
        "Return ONLY valid JSON, no explanations.\"\"\"\n",
        "\n",
        "        try:\n",
        "            filter_response = self.llm.invoke([\n",
        "                SystemMessage(content=\"You extract metadata filters from user queries. Always return valid JSON.\"),\n",
        "                HumanMessage(content=filter_prompt)\n",
        "            ])\n",
        "            filters = json.loads(filter_response.content)\n",
        "        except Exception as e:\n",
        "            print(f\"Filter extraction failed: {e}\")\n",
        "            filters = {}\n",
        "        \n",
        "        # Search vector store\n",
        "        search_results = self.vector_store.search_events(\n",
        "            query=query,\n",
        "            top_k=10,\n",
        "            filters=filters if filters else None\n",
        "        )\n",
        "        \n",
        "        state[\"filters\"] = filters\n",
        "        state[\"retrieved_events\"] = search_results\n",
        "        return state\n",
        "    \n",
        "    def response_agent(self, state: AgentState) -> AgentState:\n",
        "        \"\"\"Agent 2: Format retrieved events into natural language response.\"\"\"\n",
        "        query = state[\"query\"]\n",
        "        events = state[\"retrieved_events\"]\n",
        "        \n",
        "        if not events:\n",
        "            state[\"response\"] = \"I couldn't find any events matching your criteria. Try broadening your search!\"\n",
        "            return state\n",
        "        \n",
        "        # Prepare event context\n",
        "        event_context = \"\"\n",
        "        for i, result in enumerate(events[:5], 1):\n",
        "            event = result[\"event\"]\n",
        "            score = result[\"score\"]\n",
        "            event_context += f\"\"\"\n",
        "Event {i}:\n",
        "- Title: {event['title']}\n",
        "- Description: {event['description'][:200]}...\n",
        "- Baby-Friendly: {'Yes' if event['baby_friendly'] else 'No'}\n",
        "- URL: {event['url']}\n",
        "- Relevance Score: {score:.2f}\n",
        "\n",
        "\"\"\"\n",
        "        \n",
        "        # Generate response\n",
        "        response_prompt = f\"\"\"You are a helpful NYC event recommender assistant.\n",
        "\n",
        "User Query: \"{query}\"\n",
        "\n",
        "Here are the top events I found:\n",
        "{event_context}\n",
        "\n",
        "Task: Write a friendly, conversational response recommending these events. Include:\n",
        "1. A brief intro acknowledging their query\n",
        "2. Top 3-5 events with titles, brief descriptions, and key details\n",
        "3. Mention if events are baby-friendly when relevant\n",
        "4. Include URLs for more info\n",
        "5. End with an encouraging note\n",
        "\n",
        "Format in markdown. Be enthusiastic but concise!\"\"\"\n",
        "\n",
        "        response_message = self.llm.invoke([\n",
        "            SystemMessage(content=\"You are a friendly NYC event recommendation assistant. Be helpful and enthusiastic!\"),\n",
        "            HumanMessage(content=response_prompt)\n",
        "        ])\n",
        "        \n",
        "        state[\"response\"] = response_message.content\n",
        "        return state\n",
        "    \n",
        "    def _build_graph(self) -> StateGraph:\n",
        "        \"\"\"Build the LangGraph pipeline.\"\"\"\n",
        "        workflow = StateGraph(AgentState)\n",
        "        \n",
        "        # Add nodes\n",
        "        workflow.add_node(\"retrieval\", self.retrieval_agent)\n",
        "        workflow.add_node(\"response\", self.response_agent)\n",
        "        \n",
        "        # Define edges\n",
        "        workflow.set_entry_point(\"retrieval\")\n",
        "        workflow.add_edge(\"retrieval\", \"response\")\n",
        "        workflow.add_edge(\"response\", END)\n",
        "        \n",
        "        return workflow.compile()\n",
        "    \n",
        "    def run(self, query: str) -> Dict[str, Any]:\n",
        "        \"\"\"Run the pipeline end-to-end.\"\"\"\n",
        "        initial_state = {\n",
        "            \"query\": query,\n",
        "            \"filters\": {},\n",
        "            \"retrieved_events\": [],\n",
        "            \"response\": \"\"\n",
        "        }\n",
        "        \n",
        "        final_state = self.app.invoke(initial_state)\n",
        "        \n",
        "        return {\n",
        "            \"query\": query,\n",
        "            \"filters\": final_state[\"filters\"],\n",
        "            \"events\": final_state[\"retrieved_events\"],\n",
        "            \"response\": final_state[\"response\"]\n",
        "        }\n",
        "'''\n",
        "\n",
        "# Write to file\n",
        "backend_dir = Path(\"../backend\")\n",
        "agents_path = backend_dir / \"agents.py\"\n",
        "agents_path.write_text(agents_code)\n",
        "\n",
        "print(f\"✅ Created {agents_path}\")\n",
        "print(\"\\nModule includes:\")\n",
        "print(\"  - AgentState (TypedDict)\")\n",
        "print(\"  - EventRecommenderPipeline class\")\n",
        "print(\"  - retrieval_agent()\")\n",
        "print(\"  - response_agent()\")\n",
        "print(\"  - run() method for end-to-end execution\")\n"
      ]
    },
    {
      "cell_type": "markdown",
      "metadata": {},
      "source": [
        "### 7.2 Create `backend/main.py` (FastAPI)\n"
      ]
    },
    {
      "cell_type": "code",
      "execution_count": 18,
      "metadata": {},
      "outputs": [
        {
          "name": "stdout",
          "output_type": "stream",
          "text": [
            "✅ Created ../backend/main.py\n",
            "\n",
            "FastAPI endpoints:\n",
            "  - GET  /             → Health check\n",
            "  - POST /recommend    → Get event recommendations\n",
            "  - GET  /health       → Detailed health status\n",
            "\n",
            "To start the server:\n",
            "  cd /path/to/project\n",
            "  uvicorn backend.main:app --reload\n"
          ]
        }
      ],
      "source": [
        "fastapi_code = '''\"\"\"FastAPI backend for NYC Event Recommender.\n",
        "\n",
        "This module provides REST API endpoints for event recommendations\n",
        "using the agentic RAG pipeline.\n",
        "\"\"\"\n",
        "\n",
        "import os\n",
        "from fastapi import FastAPI, HTTPException\n",
        "from fastapi.middleware.cors import CORSMiddleware\n",
        "from pydantic import BaseModel, Field\n",
        "from typing import Optional\n",
        "from dotenv import load_dotenv\n",
        "from backend.agents import EventRecommenderPipeline\n",
        "\n",
        "# Load environment variables\n",
        "load_dotenv()\n",
        "\n",
        "# Configure LangSmith tracing\n",
        "os.environ[\"LANGCHAIN_TRACING_V2\"] = \"true\"\n",
        "os.environ[\"LANGCHAIN_PROJECT\"] = \"nyc-event-recommender\"\n",
        "os.environ[\"LANGCHAIN_ENDPOINT\"] = \"https://api.smith.langchain.com\"\n",
        "os.environ[\"LANGCHAIN_API_KEY\"] = os.getenv(\"LANGCHAIN_API_KEY\")\n",
        "\n",
        "# Initialize FastAPI app\n",
        "app = FastAPI(\n",
        "    title=\"NYC Event Recommender API\",\n",
        "    description=\"AI-powered event recommendation system for NYC\",\n",
        "    version=\"1.0.0\"\n",
        ")\n",
        "\n",
        "# Add CORS middleware\n",
        "app.add_middleware(\n",
        "    CORSMiddleware,\n",
        "    allow_origins=[\"*\"],\n",
        "    allow_credentials=True,\n",
        "    allow_methods=[\"*\"],\n",
        "    allow_headers=[\"*\"],\n",
        ")\n",
        "\n",
        "# Initialize the pipeline\n",
        "pipeline = EventRecommenderPipeline(qdrant_path=\"./local_qdrant\")\n",
        "\n",
        "\n",
        "class QueryRequest(BaseModel):\n",
        "    \"\"\"Request model for event recommendations.\"\"\"\n",
        "    query: str = Field(..., description=\"User query for event recommendations\")\n",
        "    top_k: Optional[int] = Field(5, description=\"Number of events to return\", ge=1, le=20)\n",
        "\n",
        "\n",
        "class QueryResponse(BaseModel):\n",
        "    \"\"\"Response model for event recommendations.\"\"\"\n",
        "    query: str\n",
        "    filters: dict\n",
        "    response: str\n",
        "    num_events: int\n",
        "\n",
        "\n",
        "@app.get(\"/\")\n",
        "def read_root():\n",
        "    \"\"\"Health check endpoint.\"\"\"\n",
        "    return {\n",
        "        \"message\": \"NYC Event Recommender API\",\n",
        "        \"status\": \"online\",\n",
        "        \"version\": \"1.0.0\"\n",
        "    }\n",
        "\n",
        "\n",
        "@app.post(\"/recommend\", response_model=QueryResponse)\n",
        "def recommend_events(request: QueryRequest):\n",
        "    \"\"\"\n",
        "    Get event recommendations based on user query.\n",
        "    \n",
        "    Args:\n",
        "        request: QueryRequest with user query and optional top_k\n",
        "    \n",
        "    Returns:\n",
        "        QueryResponse with recommendations and metadata\n",
        "    \"\"\"\n",
        "    try:\n",
        "        # Run the pipeline\n",
        "        result = pipeline.run(request.query)\n",
        "        \n",
        "        return QueryResponse(\n",
        "            query=result[\"query\"],\n",
        "            filters=result[\"filters\"],\n",
        "            response=result[\"response\"],\n",
        "            num_events=len(result[\"events\"])\n",
        "        )\n",
        "    \n",
        "    except Exception as e:\n",
        "        raise HTTPException(\n",
        "            status_code=500,\n",
        "            detail=f\"Error processing query: {str(e)}\"\n",
        "        )\n",
        "\n",
        "\n",
        "@app.get(\"/health\")\n",
        "def health_check():\n",
        "    \"\"\"Detailed health check with component status.\"\"\"\n",
        "    return {\n",
        "        \"status\": \"healthy\",\n",
        "        \"components\": {\n",
        "            \"vector_store\": \"online\",\n",
        "            \"llm\": \"online\",\n",
        "            \"langgraph\": \"online\"\n",
        "        }\n",
        "    }\n",
        "\n",
        "\n",
        "if __name__ == \"__main__\":\n",
        "    import uvicorn\n",
        "    uvicorn.run(app, host=\"0.0.0.0\", port=8000)\n",
        "'''\n",
        "\n",
        "# Write to file\n",
        "main_path = backend_dir / \"main.py\"\n",
        "main_path.write_text(fastapi_code)\n",
        "\n",
        "print(f\"✅ Created {main_path}\")\n",
        "print(\"\\nFastAPI endpoints:\")\n",
        "print(\"  - GET  /             → Health check\")\n",
        "print(\"  - POST /recommend    → Get event recommendations\")\n",
        "print(\"  - GET  /health       → Detailed health status\")\n",
        "print(\"\\nTo start the server:\")\n",
        "print(\"  cd /path/to/project\")\n",
        "print(\"  uvicorn backend.main:app --reload\")\n"
      ]
    },
    {
      "cell_type": "markdown",
      "metadata": {},
      "source": []
    },
    {
      "cell_type": "markdown",
      "metadata": {},
      "source": []
    },
    {
      "cell_type": "markdown",
      "metadata": {},
      "source": []
    },
    {
      "cell_type": "markdown",
      "metadata": {},
      "source": []
    }
  ],
  "metadata": {
    "kernelspec": {
      "display_name": ".venv",
      "language": "python",
      "name": "python3"
    },
    "language_info": {
      "codemirror_mode": {
        "name": "ipython",
        "version": 3
      },
      "file_extension": ".py",
      "mimetype": "text/x-python",
      "name": "python",
      "nbconvert_exporter": "python",
      "pygments_lexer": "ipython3",
      "version": "3.10.0"
    }
  },
  "nbformat": 4,
  "nbformat_minor": 2
}
