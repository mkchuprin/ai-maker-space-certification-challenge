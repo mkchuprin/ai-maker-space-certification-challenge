{
  "cells": [
    {
      "cell_type": "markdown",
      "metadata": {},
      "source": [
        "# Notebook 2: Data Processing & Vector Database\n",
        "\n",
        "**Objectives:**\n",
        "- Clean and structure event data\n",
        "- Use LLM to extract additional metadata (baby-friendliness only)\n",
        "- Generate embeddings for semantic search\n",
        "- Set up Qdrant and index all events\n",
        "\n",
        "**✅✅✅ Important Notes:**\n",
        "- We're keeping it simple: only extracting `baby_friendly: bool` from LLM\n",
        "- Semantic search will naturally handle mood/vibe queries\n",
        "- Event-level chunks (1 event = 1 document)\n",
        "\n",
        "---\n"
      ]
    },
    {
      "cell_type": "markdown",
      "metadata": {},
      "source": [
        "## Setup & Imports\n"
      ]
    },
    {
      "cell_type": "code",
      "execution_count": null,
      "metadata": {},
      "outputs": [],
      "source": [
        "# Install required packages if needed\n",
        "# !pip install openai qdrant-client pandas numpy python-dotenv\n"
      ]
    },
    {
      "cell_type": "code",
      "execution_count": 1,
      "metadata": {},
      "outputs": [
        {
          "name": "stdout",
          "output_type": "stream",
          "text": [
            "✅ Imports successful!\n",
            "OpenAI API Key loaded: Yes\n"
          ]
        }
      ],
      "source": [
        "import pandas as pd\n",
        "import numpy as np\n",
        "import os\n",
        "import json\n",
        "from datetime import datetime\n",
        "from pathlib import Path\n",
        "from dotenv import load_dotenv\n",
        "from openai import OpenAI\n",
        "from qdrant_client import QdrantClient\n",
        "from qdrant_client.models import Distance, VectorParams, PointStruct\n",
        "import time\n",
        "from tqdm import tqdm\n",
        "\n",
        "# Load environment variables\n",
        "load_dotenv()\n",
        "\n",
        "# Initialize OpenAI client\n",
        "client = OpenAI(api_key=os.getenv(\"OPENAI_API_KEY\"), organization=os.getenv(\"OPENAI_ORG_ID\"))\n",
        "\n",
        "print(\"✅ Imports successful!\")\n",
        "print(f\"OpenAI API Key loaded: {'Yes' if os.getenv('OPENAI_API_KEY') else 'No'}\")\n"
      ]
    },
    {
      "cell_type": "markdown",
      "metadata": {},
      "source": [
        "## 1. Load Raw Data\n",
        "\n",
        "Load the CSV file from Notebook 1.\n"
      ]
    },
    {
      "cell_type": "code",
      "execution_count": 2,
      "metadata": {},
      "outputs": [
        {
          "data": {
            "text/plain": [
              "'org-U43gtMbXKtifsSUvWmXcbydP'"
            ]
          },
          "execution_count": 2,
          "metadata": {},
          "output_type": "execute_result"
        }
      ],
      "source": [
        "os.getenv(\"OPENAI_ORG_ID\")"
      ]
    },
    {
      "cell_type": "code",
      "execution_count": 3,
      "metadata": {},
      "outputs": [
        {
          "name": "stdout",
          "output_type": "stream",
          "text": [
            "Loading data from: ../data/raw/timeout_events_20251019.csv\n",
            "\n",
            "✅ Loaded 99 events\n",
            "\n",
            "Columns: ['event_id', 'title', 'description', 'url']\n",
            "\n",
            "First event:\n"
          ]
        },
        {
          "data": {
            "text/html": [
              "<div>\n",
              "<style scoped>\n",
              "    .dataframe tbody tr th:only-of-type {\n",
              "        vertical-align: middle;\n",
              "    }\n",
              "\n",
              "    .dataframe tbody tr th {\n",
              "        vertical-align: top;\n",
              "    }\n",
              "\n",
              "    .dataframe thead th {\n",
              "        text-align: right;\n",
              "    }\n",
              "</style>\n",
              "<table border=\"1\" class=\"dataframe\">\n",
              "  <thead>\n",
              "    <tr style=\"text-align: right;\">\n",
              "      <th></th>\n",
              "      <th>event_id</th>\n",
              "      <th>title</th>\n",
              "      <th>description</th>\n",
              "      <th>url</th>\n",
              "    </tr>\n",
              "  </thead>\n",
              "  <tbody>\n",
              "    <tr>\n",
              "      <th>0</th>\n",
              "      <td>evt_001</td>\n",
              "      <td>1.Open House New York</td>\n",
              "      <td>Admit it, are you a nosy New Yorker? Same here...</td>\n",
              "      <td>https://www.timeout.com/newyork/news/open-hous...</td>\n",
              "    </tr>\n",
              "  </tbody>\n",
              "</table>\n",
              "</div>"
            ],
            "text/plain": [
              "  event_id                  title  \\\n",
              "0  evt_001  1.Open House New York   \n",
              "\n",
              "                                         description  \\\n",
              "0  Admit it, are you a nosy New Yorker? Same here...   \n",
              "\n",
              "                                                 url  \n",
              "0  https://www.timeout.com/newyork/news/open-hous...  "
            ]
          },
          "execution_count": 3,
          "metadata": {},
          "output_type": "execute_result"
        }
      ],
      "source": [
        "# Find the most recent CSV file in data/raw/\n",
        "raw_data_dir = Path(\"../data/raw\")\n",
        "csv_files = list(raw_data_dir.glob(\"timeout_events_*.csv\"))\n",
        "\n",
        "if not csv_files:\n",
        "    raise FileNotFoundError(\"No CSV files found in data/raw/. Please run Notebook 1 first.\")\n",
        "\n",
        "# Get the most recent file\n",
        "latest_csv = sorted(csv_files)[-1]\n",
        "print(f\"Loading data from: {latest_csv}\")\n",
        "\n",
        "# Load data\n",
        "df = pd.read_csv(latest_csv)\n",
        "\n",
        "print(f\"\\n✅ Loaded {len(df)} events\")\n",
        "print(f\"\\nColumns: {list(df.columns)}\")\n",
        "print(f\"\\nFirst event:\")\n",
        "df.head(1)\n"
      ]
    },
    {
      "cell_type": "markdown",
      "metadata": {},
      "source": [
        "## 2. LLM-Based Feature Extraction\n",
        "\n",
        "**✅✅✅ Simplified Approach:**\n",
        "- Extract only `baby_friendly: bool` from event descriptions\n",
        "- If True, implies stroller-accessible and suitable for infants/toddlers\n",
        "- No mood tags or energy levels needed - semantic search handles this naturally!\n",
        "\n",
        "**Why this works:**\n",
        "- Baby-friendliness is objective and actionable\n",
        "- Semantic embeddings capture nuanced vibes (\"romantic\", \"relaxing\", etc.) automatically\n",
        "- Reduces API calls and processing time by 50%+\n"
      ]
    },
    {
      "cell_type": "code",
      "execution_count": 4,
      "metadata": {},
      "outputs": [
        {
          "name": "stdout",
          "output_type": "stream",
          "text": [
            "✅ Function defined successfully!\n"
          ]
        }
      ],
      "source": [
        "def extract_baby_friendly(title: str, description: str) -> bool:\n",
        "    \"\"\"\n",
        "    Use GPT-4 to determine if an event is baby-friendly.\n",
        "    \n",
        "    Args:\n",
        "        title: Event title\n",
        "        description: Event description\n",
        "    \n",
        "    Returns:\n",
        "        bool: True if baby-friendly, False otherwise\n",
        "    \"\"\"\n",
        "    prompt = f\"\"\"Given this NYC event, determine if it is baby-friendly.\n",
        "\n",
        "Baby-friendly means:\n",
        "- Suitable for infants and toddlers (ages 0-3)\n",
        "- Stroller-accessible\n",
        "- Family-oriented or welcoming to young children\n",
        "- Not explicitly adult-only (bars, nightclubs, R-rated content)\n",
        "\n",
        "Event Title: {title}\n",
        "Event Description: {description}\n",
        "\n",
        "Return ONLY a JSON object with this format:\n",
        "{{\"baby_friendly\": true}} or {{\"baby_friendly\": false}}\n",
        "\n",
        "No explanation needed, just the JSON.\"\"\"\n",
        "    \n",
        "    try:\n",
        "        response = client.chat.completions.create(\n",
        "            model=\"gpt-4o-mini\",  # Using mini for cost efficiency\n",
        "            messages=[\n",
        "                {\"role\": \"system\", \"content\": \"You are a helpful assistant that analyzes event descriptions. Always respond with valid JSON.\"},\n",
        "                {\"role\": \"user\", \"content\": prompt}\n",
        "            ],\n",
        "            temperature=0,  # Deterministic output\n",
        "            response_format={\"type\": \"json_object\"}\n",
        "        )\n",
        "        \n",
        "        result = json.loads(response.choices[0].message.content)\n",
        "        return result.get(\"baby_friendly\", False)\n",
        "    \n",
        "    except Exception as e:\n",
        "        print(f\"Error processing event '{title}': {e}\")\n",
        "        return False  # Default to False on error\n",
        "\n",
        "print(\"✅ Function defined successfully!\")\n"
      ]
    },
    {
      "cell_type": "code",
      "execution_count": 5,
      "metadata": {},
      "outputs": [
        {
          "name": "stdout",
          "output_type": "stream",
          "text": [
            "Test event: 1.Open House New York\n",
            "Baby-friendly: True\n",
            "\n",
            "✅ Test successful!\n"
          ]
        }
      ],
      "source": [
        "# Test the function on first event\n",
        "test_event = df.iloc[0]\n",
        "result = extract_baby_friendly(test_event['title'], test_event['description'])\n",
        "\n",
        "print(f\"Test event: {test_event['title']}\")\n",
        "print(f\"Baby-friendly: {result}\")\n",
        "print(\"\\n✅ Test successful!\")\n"
      ]
    },
    {
      "cell_type": "code",
      "execution_count": 6,
      "metadata": {},
      "outputs": [
        {
          "name": "stdout",
          "output_type": "stream",
          "text": [
            "Extracting baby-friendly metadata for all events...\n",
            "This will take ~2-3 minutes for 100 events.\n",
            "\n"
          ]
        },
        {
          "name": "stderr",
          "output_type": "stream",
          "text": [
            "Processing events: 100%|██████████| 99/99 [00:56<00:00,  1.75it/s]"
          ]
        },
        {
          "name": "stdout",
          "output_type": "stream",
          "text": [
            "\n",
            "✅ Extraction complete!\n",
            "Baby-friendly events: 45 out of 99 (45.5%)\n"
          ]
        },
        {
          "name": "stderr",
          "output_type": "stream",
          "text": [
            "\n"
          ]
        }
      ],
      "source": [
        "# Process all events with progress bar\n",
        "print(\"Extracting baby-friendly metadata for all events...\")\n",
        "print(\"This will take ~2-3 minutes for 100 events.\\n\")\n",
        "\n",
        "baby_friendly_flags = []\n",
        "\n",
        "for idx, row in tqdm(df.iterrows(), total=len(df), desc=\"Processing events\"):\n",
        "    is_baby_friendly = extract_baby_friendly(row['title'], row['description'])\n",
        "    baby_friendly_flags.append(is_baby_friendly)\n",
        "    \n",
        "    # Rate limiting: sleep briefly to avoid hitting API limits\n",
        "    time.sleep(0.1)\n",
        "\n",
        "# Add to dataframe\n",
        "df['baby_friendly'] = baby_friendly_flags\n",
        "\n",
        "print(f\"\\n✅ Extraction complete!\")\n",
        "print(f\"Baby-friendly events: {sum(baby_friendly_flags)} out of {len(df)} ({sum(baby_friendly_flags)/len(df)*100:.1f}%)\")\n"
      ]
    },
    {
      "cell_type": "code",
      "execution_count": 7,
      "metadata": {},
      "outputs": [
        {
          "name": "stdout",
          "output_type": "stream",
          "text": [
            "Sample baby-friendly events:\n"
          ]
        },
        {
          "data": {
            "text/html": [
              "<div>\n",
              "<style scoped>\n",
              "    .dataframe tbody tr th:only-of-type {\n",
              "        vertical-align: middle;\n",
              "    }\n",
              "\n",
              "    .dataframe tbody tr th {\n",
              "        vertical-align: top;\n",
              "    }\n",
              "\n",
              "    .dataframe thead th {\n",
              "        text-align: right;\n",
              "    }\n",
              "</style>\n",
              "<table border=\"1\" class=\"dataframe\">\n",
              "  <thead>\n",
              "    <tr style=\"text-align: right;\">\n",
              "      <th></th>\n",
              "      <th>title</th>\n",
              "      <th>baby_friendly</th>\n",
              "    </tr>\n",
              "  </thead>\n",
              "  <tbody>\n",
              "    <tr>\n",
              "      <th>0</th>\n",
              "      <td>1.Open House New York</td>\n",
              "      <td>True</td>\n",
              "    </tr>\n",
              "    <tr>\n",
              "      <th>1</th>\n",
              "      <td>2.Tompkins Square Park Halloween Dog Parade</td>\n",
              "      <td>True</td>\n",
              "    </tr>\n",
              "    <tr>\n",
              "      <th>2</th>\n",
              "      <td>3.Gowanus Open Studios</td>\n",
              "      <td>True</td>\n",
              "    </tr>\n",
              "    <tr>\n",
              "      <th>4</th>\n",
              "      <td>5.The Amazing Maize Maze</td>\n",
              "      <td>True</td>\n",
              "    </tr>\n",
              "    <tr>\n",
              "      <th>5</th>\n",
              "      <td>6.Trick-or-Streets</td>\n",
              "      <td>True</td>\n",
              "    </tr>\n",
              "    <tr>\n",
              "      <th>6</th>\n",
              "      <td>7.Longest Table at Gotham Park</td>\n",
              "      <td>True</td>\n",
              "    </tr>\n",
              "    <tr>\n",
              "      <th>9</th>\n",
              "      <td>10.Dear New York at Grand Central Terminal</td>\n",
              "      <td>True</td>\n",
              "    </tr>\n",
              "    <tr>\n",
              "      <th>11</th>\n",
              "      <td>12.Lincoln Center's Festival of Firsts</td>\n",
              "      <td>True</td>\n",
              "    </tr>\n",
              "    <tr>\n",
              "      <th>14</th>\n",
              "      <td>15.Ascarium at the New York Aquarium</td>\n",
              "      <td>True</td>\n",
              "    </tr>\n",
              "    <tr>\n",
              "      <th>15</th>\n",
              "      <td>16.Bronx Zoo Harvest Glow</td>\n",
              "      <td>True</td>\n",
              "    </tr>\n",
              "  </tbody>\n",
              "</table>\n",
              "</div>"
            ],
            "text/plain": [
              "                                          title  baby_friendly\n",
              "0                         1.Open House New York           True\n",
              "1   2.Tompkins Square Park Halloween Dog Parade           True\n",
              "2                        3.Gowanus Open Studios           True\n",
              "4                      5.The Amazing Maize Maze           True\n",
              "5                            6.Trick-or-Streets           True\n",
              "6                7.Longest Table at Gotham Park           True\n",
              "9    10.Dear New York at Grand Central Terminal           True\n",
              "11       12.Lincoln Center's Festival of Firsts           True\n",
              "14         15.Ascarium at the New York Aquarium           True\n",
              "15                    16.Bronx Zoo Harvest Glow           True"
            ]
          },
          "execution_count": 7,
          "metadata": {},
          "output_type": "execute_result"
        }
      ],
      "source": [
        "# Preview some baby-friendly events\n",
        "baby_friendly_events = df[df['baby_friendly'] == True]\n",
        "print(f\"Sample baby-friendly events:\")\n",
        "baby_friendly_events[['title', 'baby_friendly']].head(10)\n"
      ]
    },
    {
      "cell_type": "markdown",
      "metadata": {},
      "source": [
        "## 3. Create Embeddings\n",
        "\n",
        "Generate semantic embeddings using OpenAI's `text-embedding-3-small` model.\n",
        "\n",
        "**✅✅✅ Embedding Strategy:**\n",
        "- Combine title + description for rich semantic representation\n",
        "- Use OpenAI's latest embedding model (1536 dimensions)\n",
        "- Event-level chunks: 1 event = 1 embedding\n"
      ]
    },
    {
      "cell_type": "code",
      "execution_count": 8,
      "metadata": {},
      "outputs": [
        {
          "name": "stdout",
          "output_type": "stream",
          "text": [
            "✅ Embedding function defined!\n"
          ]
        }
      ],
      "source": [
        "def create_embedding(text: str) -> list[float]:\n",
        "    \"\"\"\n",
        "    Create embedding for text using OpenAI.\n",
        "    \n",
        "    Args:\n",
        "        text: Text to embed\n",
        "    \n",
        "    Returns:\n",
        "        list[float]: 1536-dimensional embedding vector\n",
        "    \"\"\"\n",
        "    try:\n",
        "        response = client.embeddings.create(\n",
        "            model=\"text-embedding-3-small\",\n",
        "            input=text\n",
        "        )\n",
        "        return response.data[0].embedding\n",
        "    except Exception as e:\n",
        "        print(f\"Error creating embedding: {e}\")\n",
        "        return [0.0] * 1536  # Return zero vector on error\n",
        "\n",
        "print(\"✅ Embedding function defined!\")\n"
      ]
    },
    {
      "cell_type": "code",
      "execution_count": 9,
      "metadata": {},
      "outputs": [
        {
          "name": "stdout",
          "output_type": "stream",
          "text": [
            "Generating embeddings for all events...\n",
            "This will take ~1-2 minutes for 100 events.\n",
            "\n"
          ]
        },
        {
          "name": "stderr",
          "output_type": "stream",
          "text": [
            "Creating embeddings:   0%|          | 0/99 [00:00<?, ?it/s]"
          ]
        },
        {
          "name": "stdout",
          "output_type": "stream",
          "text": [
            "1.Open House New York Admit it, are you a nosy New Yorker? Same here. Then you can't missOpen House New Yorkthis year. The annual event opens the doors of typically off-limit spaces during its festival running from October 17 through 19. This year, more than 300 sites are on the roster, including an exclusive rooftop garden in Rockefeller Center, a city compost facility, an Ellis Island boat and a private gallery in the World Trade Center. Even sites that are public, like Wagner Park and Astoria Pool, offer special behind-the-scenes experiences. Nearly half of the festival is fully free and open to the public—no advance registration or tickets are required. OnOpen House New York's website, you can filter to find places that fit your area of interest, such as affordable housing, building with steel and family-friendly spots. Plus, you can search for places in your borough, at certain times and that offer accessible features.\n"
          ]
        },
        {
          "name": "stderr",
          "output_type": "stream",
          "text": [
            "Creating embeddings:   1%|          | 1/99 [00:00<00:19,  4.99it/s]"
          ]
        },
        {
          "name": "stdout",
          "output_type": "stream",
          "text": [
            "2.Tompkins Square Park Halloween Dog Parade The Village Halloween Parade is fun and all, but does it have a plethora of puppies in adorable outfits? For that, you’ll have to head to this annual dog parade held this year on Sunday, October 19 (this year marks 35 years of this amazing event!). The getups are remarkably elaborate and conceptual—no surprise given the prizes up for grabs for Best in Show. This year's parade will feature adoptable rescue dogs from ASPCA, Social Tees, and Pup Starz who will serve as grand marshals. As a special event this year, artistJordan Sondlerwill be popping up at Romeo's (118 St Marks) offering custom pet portraits during the parade. You can book ahead using the linkhere. Festivities run from from 1-4pm. Though the exact parade route hasn't been announced, it typically runs on Avenue B from E. 6th Street to E. 14th Street, with staging on E. 7th Street between Avenue A and Avenue B. Follow along on theTompkins Square Park Dog Run's Instagram accountfor more info as the date approaches. Whether you're competing to be top dog or just watching from the sidelines, this canine contest can't be missed.\n"
          ]
        },
        {
          "name": "stderr",
          "output_type": "stream",
          "text": [
            "Creating embeddings:   3%|▎         | 3/99 [00:00<00:23,  4.15it/s]"
          ]
        },
        {
          "name": "stdout",
          "output_type": "stream",
          "text": [
            "3.Gowanus Open Studios Stroll through Gowanus to visit the art studios of more than 500 artists, offering a rare glimpse inside former factories, warehouses and studio buildings of this vibrantneighborhood at the 29th Annual Gowanus Open Studios on October 18 and 19. Artists will be on hand to discuss their work, share their processes and showcase their latest projects. This year, get a chance to explore the first group of subsidized art studios as part of the Gowanus Rezoning are open; artists have moved in and ready to show visitors what they're working on. Gowanus Open Studios will feature venues and studios from Pacific St. to 19th St. and from Smith St. to Fifth Ave. More than 10,000 printed maps will be distributed across the neighborhood to help visitors navigate the various locations. A digital map and directory of artists is available onartsgowanus.org.\n",
            "4.\"Renoir’s Drawings\" at The Morgan Renoir’s sketchbook is moving into the spotlight. TheMorgan Library & Museumis about to do something no New York institution has attempted in more than a century: dedicate an entire exhibition to Pierre-Auguste Renoir’s works on paper. “Renoir’s drawings reveal an artist of tremendous sensitivity and range,” said Colin B. Bailey, the Morgan’s director and curator of the show. And he’s not exaggerating.Renoir Drawingswill bring together more than 100 works—pastels, watercolors, prints and even a plaster sculpture—offering a rare chance to see the Impressionist master beyond his sun-dappled oils. The last time anyone staged a show like this was in Paris in 1921, which makes the Morgan’s exhibition a bona fide art-world event.Renoir Drawingsruns October 17, 2025, through February 8, 2026, at the Morgan Library & Museum.\n"
          ]
        },
        {
          "name": "stderr",
          "output_type": "stream",
          "text": [
            "Creating embeddings:   4%|▍         | 4/99 [00:01<00:24,  3.95it/s]"
          ]
        },
        {
          "name": "stdout",
          "output_type": "stream",
          "text": [
            "5.The Amazing Maize Maze For the past 50 years, the Queens County Farm Museum has served as a rural oasis within the New York City limits. And what better way to celebrate an anniversary than by creating a complex corn maze for New Yorkers to get delightfully lost in? The Amazing Maize Mazeis back this fall with a sunburst design celebrating five decades of the museum's existence. Expect plenty of twists, turns and tricks inside this three-acre living labyrinth. It's available to visit on select days through October 26.\n"
          ]
        },
        {
          "name": "stderr",
          "output_type": "stream",
          "text": [
            "Creating embeddings:   5%|▌         | 5/99 [00:01<00:22,  4.19it/s]"
          ]
        },
        {
          "name": "stdout",
          "output_type": "stream",
          "text": [
            "6.Trick-or-Streets Prepare your costumes and your crosswalks—Halloween is about to take over the streets. The city’s Department of Transportation just announced the return of Trick-or-Streets, its annualHalloween celebrationthat turns Open Streets and plazas across the five boroughs into car-free zones for candy, costumes and community. This year’s edition will be the biggest yet, with a record 137 events (and counting) planned between October 17 and October 31. Expect everything from pumpkin patches and hay bale photo ops to live performances, games andDía de los Muertos celebrations.A full list of Trick-or-Streets events and participating locations will be availableon the NYC DOT website—because in this city, Halloween is best celebrated curbside.\n"
          ]
        },
        {
          "name": "stderr",
          "output_type": "stream",
          "text": [
            "Creating embeddings:   6%|▌         | 6/99 [00:01<00:21,  4.37it/s]"
          ]
        },
        {
          "name": "stdout",
          "output_type": "stream",
          "text": [
            "7.Longest Table at Gotham Park Clear your calendar, grab your casserole dish and prepare to dine al fresco under one of New York’s most iconic landmarks. On Saturday, October 18, Gotham Park will transform the space beneath theBrooklyn Bridgeinto one uninterrupted, communal dining table for the first-everLongest Table at Gotham Park, a free afternoon potluck where the only ticket required is something to share. From noon to 3:30 pm, the park’s north sidewill transform into a four-acre public space filled with tables, chairs and neighbors, all gathered to celebrate connection through food. Guests are encouraged to bring a dish, a drink or even a decorative centerpiece to add to the mix. After lunch, the festivities will continue with a performance by Teatro Grattacielo’s opera ensemble and a guided conversation on community, culture and creativity.\n"
          ]
        },
        {
          "name": "stderr",
          "output_type": "stream",
          "text": [
            "Creating embeddings:   7%|▋         | 7/99 [00:01<00:22,  4.10it/s]"
          ]
        },
        {
          "name": "stdout",
          "output_type": "stream",
          "text": [
            "8.\"Monet and Venice\" at Brooklyn Museum For those who have long romanticized the floating city of Venice, theBrooklyn Museum's new exhibit will only stoke those desires. Featuring a rare reunion of Claude Monet's iconic Venetian paintings, visitors are encouraged to \"travel\" to this dreamy destination and immerse themselves in art inspired by the city's timeless beauty. \"Monet and Venice\" engages audiences through multi-sensoryelements, including an original symphonic score inspired by Monet's Venice paintings by the Brooklyn Museum's composer in residence, Niles Luther.The collection marks New York's largest museum show dedicated to Monet in over 25 years, featuring 100 artworks, books and memorabilia, including 19 of Monet's paintings of Venice. It's the first dedicated exploration of these pieces since their debut in 1912. See it until February 1, 2026.\n"
          ]
        },
        {
          "name": "stderr",
          "output_type": "stream",
          "text": [
            "Creating embeddings:   8%|▊         | 8/99 [00:02<00:23,  3.81it/s]"
          ]
        },
        {
          "name": "stdout",
          "output_type": "stream",
          "text": [
            "9.Not Your Standard Bingo: Halloween Edition This isn't your grandma's Bingo game. Instead, head to the The Standard High Linefor three nights of Bingo with aspookytwist this October.The Halloween edition of Not Your Standard Bingo is happening at The Standard High Line every Sunday at 9pm until October 26. Book a table for you and your crew for one of the following nights: October 19th isHalloweentownBingoand October 26 wraps up withAddams FamilyBingo.\n"
          ]
        },
        {
          "name": "stderr",
          "output_type": "stream",
          "text": [
            "Creating embeddings:   9%|▉         | 9/99 [00:02<00:24,  3.66it/s]"
          ]
        },
        {
          "name": "stdout",
          "output_type": "stream",
          "text": [
            "10.Dear New York at Grand Central Terminal Grand Central Terminalhas seen a lot in its 112 years—commuters, film shoots, flash mobs,the cast ofSeverance—but never this. For two weeks this fall, the landmark will transform into the city’s largest public art installation in decades, courtesy ofHumans of New York creator Brandon Stanton. Now through October 19, the projectDear New Yorkwill take over the entire terminal, clearing Grand Central of advertising for the first time in its history. Instead of shoe ads and train alerts, more than 150 digital screens will pulse with thousands of portraits and stories from Stanton’s 15-year archive, creating what organizers call a “visual love letter” to the city.\n"
          ]
        },
        {
          "name": "stderr",
          "output_type": "stream",
          "text": [
            "Creating embeddings:  10%|█         | 10/99 [00:02<00:25,  3.48it/s]"
          ]
        },
        {
          "name": "stdout",
          "output_type": "stream",
          "text": [
            "11.The Met's rooftop commission Even if you don't know how to play music, it’s practically impossible not to reach out and strum or pluck the strings when an instrument appears in front of you—or at the very least, expect that a musician will appear to play it. That’s what makes these new abstract artworks by Jennie C. Jones so mind-bending. Three massive instrument sculptures now sit on the Metropolitan Museum of Art’s rooftop in Jones’ latest work titled “Ensemble.” But only one of the instruments makes sound when it’s activated by the wind. The other two don’t make sound at all, even though they’re capable of doing so. That's exactly the point. Instead, their potential for sound and the tension between dormancy and activation is where they hold power. Go see these cool sculptures on the Met’s gorgeous rooftop through October 19.\n"
          ]
        },
        {
          "name": "stderr",
          "output_type": "stream",
          "text": [
            "Creating embeddings:  11%|█         | 11/99 [00:02<00:24,  3.54it/s]"
          ]
        },
        {
          "name": "stdout",
          "output_type": "stream",
          "text": [
            "12.Lincoln Center's Festival of Firsts Lincoln Center is throwing a party for the bold and the brand-new—and you’re invited, no ticket required. Now through through October 23, the David Rubenstein Atrium is being taken over by theFestival of Firsts, a spree of free performances that spotlight artists making their U.S. and NYC debuts, launching albums, premiering works or stepping onto the Lincoln Center stage for the first time. The fourth annual edition leans into the unexpected. One night you might catch a drag-fueled rock cabaret staged as a gothic Halloween fantasia; the next, an intimate multimedia theater piece straight from Chile. With every performance free and first-come, first-served, the Festival of Firsts offers a rare chance to catch rising artists at turning points in their careers—all under one roof.\n"
          ]
        },
        {
          "name": "stderr",
          "output_type": "stream",
          "text": [
            "Creating embeddings:  13%|█▎        | 13/99 [00:03<00:21,  4.02it/s]"
          ]
        },
        {
          "name": "stdout",
          "output_type": "stream",
          "text": [
            "13.\"Frankenstein\" film The king of creature features, Guillermo del Toro resurrects Mary Shelley’s literary creation in all its full-on gaudy gothic glory. Oscar Isaac is Baron Victor Frankenstein, who is rescued from a monster on the ice by the crew of a ship of polar explorers. He is a man with a tale to tell of how he got there: but, like Dewey Cox inWalk Hard, he has to start at the very beginning: with a childhood of a bad daddy (Charles Dance) and grief that drives an ambition to conquer death itself. Isaac is superb as Victor, as much an artist as a scientist; his gruesome work accompanied by Alexander Desplat's joyful waltz as he peels skin and gets elbow deep in viscera. Del Toro makes no secret of where his sympathy lies and who the real monsters are, but there are surprises here. Not least of which is how moved you might feel in the end. It's in theaters as of this weekend.\n",
            "14.FAD Market Shop 'til you drop at FAD Market, a curated fashion, art and design pop-up marketplace, which is back for 2025. Expect to see your favorite makers plus brand new creatives to help you live smarter, gift better and support local businesses. FAD—which stands for Fashion, Art and Design—takes over different venues with a horde of independent vendors and creators.Admission is free and dogs are welcome! Here's what's next:\n"
          ]
        },
        {
          "name": "stderr",
          "output_type": "stream",
          "text": [
            "Creating embeddings:  14%|█▍        | 14/99 [00:03<00:19,  4.36it/s]"
          ]
        },
        {
          "name": "stdout",
          "output_type": "stream",
          "text": [
            "15.Ascarium at the New York Aquarium Celebrate the season with under-the-sea animals at the New York Aquarium's Ascarium. Kids can enjoy a marine-themed magic shows, Halloween crafts, a scavenger hunt, a costume parade, games and storytelling. Plus, visit with amazing aquatic animals including piranhas, wolf eels, bat sea stars and spider crabs to learn why they're not as \"spooky\" as you might think. New activities this year include a hands-on shark fossil dig where kids can uncover shark teeth to keep. Plus, kids of all ages can add their personal touch to a huge mural the NY Aquarium community is making together to celebrate Halloween, the aquarium and ocean wildlife. Ascarium is included with aquarium admission and runs on October 11–13, 18–19, and 25–26 from 11am-4pm in Coney Island. See the whole list of events and the schedulehere.\n"
          ]
        },
        {
          "name": "stderr",
          "output_type": "stream",
          "text": [
            "Creating embeddings:  15%|█▌        | 15/99 [00:03<00:19,  4.32it/s]"
          ]
        },
        {
          "name": "stdout",
          "output_type": "stream",
          "text": [
            "16.Bronx Zoo Harvest Glow The only thing better than the Bronx Zoo is the Bronx Zoo at night. The famed zoo's annual family-friendly celebration, Harvest Glow, is back and at its best. Every Thursday-Sunday until October 31, families are invited to explore this immersive jack-o'-lantern trail with its own spin: the 5,000 pumpkins are animal-themed, of course! Senses will be heightened as you explore illuminating ecosystems through the use of music, special effects and dramatic lighting to make sure that you really feel the spookiness. And if that wasn't enough, visitors will have the opportunity to live in the Mesozeric Era while walking amongst over 60 animatronic dinosaurs and pterosaurs at the event's Dinosaur Safari. Paired with the darkness, this prehistoric adventure is not to be missed. Also expect pumpkin carving demos, games, face panting and tons of photo opps.\n"
          ]
        },
        {
          "name": "stderr",
          "output_type": "stream",
          "text": [
            "Creating embeddings:  16%|█▌        | 16/99 [00:04<00:21,  3.77it/s]"
          ]
        },
        {
          "name": "stdout",
          "output_type": "stream",
          "text": [
            "17.Schtick a Pole in It You won't believe how seamlessly good comedy can work with pole dancing (you can read about ithere). While stellar stand-ups deliver sets, pro dancers give the crowd something stare at. Think of it as a full-brain experience.Comics Dan Goodman, Joanna Ross and special guests will welcome talented pole dancers and comedians from across NYC. Each show features a different musical theme, and each one is full of surprises. This time, on Friday, October 17 and Saturday, October 18, the music of Ozzy Osbourne will take over the speakers for a chance to \"Bark at the Moon\" and get on the \"Crazy Train.\" Expect to hear jokes from five comics and see performances by five dancers. \"They're not strippers, it’s not burlesque. It’s aerial dance with a side of crazy gymnastics, and death defying tricks that make your jaw drop,\" event planners explain. As the event organizers say: \"If you don't see shows like this, why are you even paying the NYC rents?\" See it at Drom in the East Village.\n"
          ]
        },
        {
          "name": "stderr",
          "output_type": "stream",
          "text": [
            "Creating embeddings:  17%|█▋        | 17/99 [00:05<00:39,  2.06it/s]"
          ]
        },
        {
          "name": "stdout",
          "output_type": "stream",
          "text": [
            "18.\"Robert Rauschenberg: Life Can't Be Stopped\" at the Guggenheim A century ago this fall, Robert Rauschenberg was born in Texas. He went on to become a Pop art pioneer and one of the most renowned American artists of this era. Now, museums and galleries across the globe are planning shows that honor the artist's expansive creativity, spirit of curiosity and commitment to change. For its part, NYC'sGuggenheim Museumon the Upper East Side will host a major show called \"Robert Rauschenberg: Life Can't Be Stopped,\" running through April 5, 2026. The show will feature more than a dozen historic pieces, including Rauschenberg's monumental painting \"Barge,\" all which reflect the artist’s radical legacy.\n"
          ]
        },
        {
          "name": "stderr",
          "output_type": "stream",
          "text": [
            "Creating embeddings:  18%|█▊        | 18/99 [00:05<00:33,  2.39it/s]"
          ]
        },
        {
          "name": "stdout",
          "output_type": "stream",
          "text": [
            "19.\"The Mastermind\" movie The title of Kelly Reichardt’s(Certain Women) bone-dry art heist comedy, set in the ‘70s of Vietnam War protests and waterbed sales, is strictly tongue-in-cheek. Not only is he not a mastermind, Josh O’Connor’s unemployed Massachusetts carpenter James Blaine ‘JB’ Mooney would makeFargo’s Jerry Lundegaard look like the last word in criminal competence. Mooney plans to steal four abstract – and fairly low value – portraits by modernist painter Arthur Dove from his local gallery based loosely on a real-life 1973 heist of Massachusetts’s Worcester Art Museum, With the vinyl feel of ’70s cinema and powered by Rob Mazurek’s jazzy heist movie score,The Masterminda wonderfully evocative of a very specific moment in pre-Watergate America: a time of campus protests, fugitives from the draft, and political awakening. Nicely played with an on-form O’Connor, the frowning, sweater-clad Mooney is a counterpoint to all of that. He’s only a runaway from his own life. See it in theaters as of October 17.\n"
          ]
        },
        {
          "name": "stderr",
          "output_type": "stream",
          "text": [
            "Creating embeddings:  19%|█▉        | 19/99 [00:05<00:29,  2.69it/s]"
          ]
        },
        {
          "name": "stdout",
          "output_type": "stream",
          "text": [
            "20.\"Dress, Dreams and Desire: Fashion and Psychoanalysis\" at The Museum at FIT In the year 2025, how we dress is still the highest form of free self expression—and the role that gender plays in fashion has broken norms, especially in the last decade. In a new exhibit from The Museum at Fashion Institute of Technology, the road to this gender fluid fashion is examined, beginning in the 1900s. Explore body image, dreams, desires, sexuality and the unconscious in almost 100 items of dress as part of the new, free exhibition \"Dress, Dreams and Desire: Fashion and Psychoanalysis\" on view through January 4, 2026.This work explores the history of designerssuch asAzzedine Alaia, Gabrielle \"Coco\" Chanel, WillyChavarria, Bella Freud, John Galliano for Christian Dior, Vivienne Westwood, Gianna and Donatella Versace,Alexander McQueen and more.\n"
          ]
        },
        {
          "name": "stderr",
          "output_type": "stream",
          "text": [
            "Creating embeddings:  20%|██        | 20/99 [00:05<00:25,  3.04it/s]"
          ]
        },
        {
          "name": "stdout",
          "output_type": "stream",
          "text": [
            "21.\"The Black Phone 2\" film When a horror movie hits, a sequel usually follows very closely.The Black Phonewas a critical and commercial success in 2021, so it’s surprising it’s taken four years for a follow-up. That wait, though, turns out to be a very smart move. Four years have also passed inBlack Phone 2’s reality. That time has not healed Finn and his sister Gwen (again played by Mason Thames and Madeleine McGraw). In the original, 13-year-old Finn was kidnapped by serial child-killer ‘The Grabber’ (Ethan Hawke) and kept in a basement, awaiting execution. Finn bested the killer with the help of past victims, who contacted him by phone from beyond the grave, and his sister’s peculiar premonitions. There’s still plenty here to make you shiver, but in letting events out of the basement this sequel has also released much of the tension. It's in theaters on October 17.\n"
          ]
        },
        {
          "name": "stderr",
          "output_type": "stream",
          "text": [
            "Creating embeddings:  22%|██▏       | 22/99 [00:06<00:20,  3.71it/s]"
          ]
        },
        {
          "name": "stdout",
          "output_type": "stream",
          "text": [
            "22.\"The Gay Harlem Renaissance\" at The New York Historical Many New Yorkers know about the Harlem Renaissance, but a new exhibit opening this fall explores a more unknown facet of the era—the Gay Harlem Renaissance.The New York Historicalwill host a new exhibit examining the Black LGBTQ+ artists, writers and performers vital to the Harlem Renaissance and everyday Black gay life in the early 20th century. \"The Gay Harlem Renaissance\" runs until March 8, 2026. This unique exhibit traces queer creativity, friendship circles and mentorships that once flourished in Harlem's salons, social clubs and thriving nightlight. The show also highlights specific Harlem Renaissance poets, novelists and artists—many of whom were gay or bisexual.\n",
            "23.Reposo y Recuerdo (Rest and Remember) at Green-Wood Cemetery Cemeteries are, of course, always good places to remember lost loved ones. But this season, Brooklyn'sGreen-Wood Cemeteryis taking that to new heights as it unveils Reposo y Recuerdo (Rest and Remember), an expansive Día de Muertos ofrenda by acclaimed artist Laura Anderson Barbata. All are welcome to bring photos, flowers or keepsakes to the community altar, creating \"a collective gesture of remembrance and care.\" The installation, which features handwoven hammocks, colorful papel picado and cascades of paper marigolds, is now on view in Green-Wood's historic chapel through November 16.\n"
          ]
        },
        {
          "name": "stderr",
          "output_type": "stream",
          "text": [
            "Creating embeddings:  23%|██▎       | 23/99 [00:06<00:19,  3.90it/s]"
          ]
        },
        {
          "name": "stdout",
          "output_type": "stream",
          "text": [
            "24.New York Hysterical comedy nights Enjoy an early-bird hour ofcomedywith acclaimed NYC stand-ups inside a cool venue. Host Tom Delgado, a comedian, actor, tour guide andNewYorkCity history buff, leads a night of laughs at the New York Historical with a rotation of Gotham's finest comedians for four Friday nights in October. Pay-as-you-wish hours are from 5pm to 8pm, so come early or stay late to explore exhibitions from The New York Historical like \"Blacklisted: An American Story\" and \"TheNewYorkSari.\" No registration is required and seating is first come, first served. Here are all the dates for October:\n"
          ]
        },
        {
          "name": "stderr",
          "output_type": "stream",
          "text": [
            "Creating embeddings:  25%|██▌       | 25/99 [00:06<00:17,  4.34it/s]"
          ]
        },
        {
          "name": "stdout",
          "output_type": "stream",
          "text": [
            "25.\"Monet and Venice\" at Brooklyn Museum For those who have long romanticized the floating city of Venice, theBrooklyn Museum's new exhibit will only stoke those desires. Featuring a rare reunion of Claude Monet's iconic Venetian paintings, visitors are encouraged to \"travel\" to this dreamy destination and immerse themselves in art inspired by the city's timeless beauty. \"Monet and Venice\" engages audiences through multi-sensoryelements, including an original symphonic score inspired by Monet's Venice paintings by the Brooklyn Museum's composer in residence, Niles Luther.The collection marks New York's largest museum show dedicated to Monet in over 25 years, featuring 100 artworks, books and memorabilia, including 19 of Monet's paintings of Venice. It's the first dedicated exploration of these pieces since their debut in 1912.] The exhibition is open for visitors from October 11 until February 1, 2026.\n",
            "26.Halloween-Themed Drag Brunches Halloween-themed drag brunches are coming to Stella 34 Trattoria all month long. Each event will combine high-energy drag performances with a full brunch menu for the perfect blend of brunch plus spooky seasonentertainment.Costumes are encouraged. You can view the whole drag brunch menuhere. Here's the lineup with ticket links: —Sunday, October 19:'80s vs. '90s Halloween MovieDragBrunchA nostalgic showdown featuring performances inspired by iconic Halloween films from both decades. Performers will battle it out to determine which decade reigns supreme with show-stopping numbers and comedic lip-syncs. —Sunday, October 26:Hocus PocusDragBrunchA frighteningly fun tribute to the beloved film featuring performances inspired by the Sanderson sisters. Expect dancing, comedy, and Halloween magic as the performers bring the witchy energy to life.\n"
          ]
        },
        {
          "name": "stderr",
          "output_type": "stream",
          "text": [
            "Creating embeddings:  26%|██▋       | 26/99 [00:07<00:18,  4.05it/s]"
          ]
        },
        {
          "name": "stdout",
          "output_type": "stream",
          "text": [
            "27.\"Divine Egypt\" at The Met The Met's first major exhibition of Egyptian art in over a decade ison its way.From October 21 until January 19, 2026, \"Divine Egypt\" will focus in on images of gods in ancient Egypt. The exhibit considers how these physical tools brought the gods to life for daily worship, offering ancient Egyptians a vital connection between the human and divine worlds. Spanning more than 3,000 years, the Egyptian people's belief system grew to include more than 1,500 gods with many overlapping forms and traits. At the exhibit, expect to see statues and small elegant figurines that represent 25 of ancient Egypt's main deities. Look for subtle visual cues, like what a figure wore, how they posed or the symbols they carried to help identify each one. \"The ways in which the ancient Egyptian gods were depicted are vastly different from the divine beings in contemporary religions and therefore are intriguing to modern audiences,\" said Diana Craig Patch, Lila Acheson Wallace Curator in Charge of Egyptian Art in a press release about the exhibition. \"The identity of an ancient Egyptian god may at first seem easy to recognize but looks can be deceiving, as one form can be shared by many deities. Across more than 3,000 years of history, gods, attributes, roles and myths were rarely dropped from use, yet the Egyptians of the time had no difficulty understanding and accepting the resulting multiplicity. Through hundreds of spectacular objects, 'Divine Egypt' will allow visitors to understand the complex nature of these deities and help translate the images that were needed to make the inhabitants of the celestial realm available to ancient Egyptians.\" The exhibition will conclude with artifacts relating to the transition to the next life.\n"
          ]
        },
        {
          "name": "stderr",
          "output_type": "stream",
          "text": [
            "Creating embeddings:  27%|██▋       | 27/99 [00:07<00:18,  3.95it/s]"
          ]
        },
        {
          "name": "stdout",
          "output_type": "stream",
          "text": [
            "28.Classic Harbor Line Fall Foliage Tours Want to get out of the city this fall? You're in luck: Classic Harbor Line offers scenic fall foliage sails aboard gorgeous vintage vessels with a front-row seat to the picturesque changing of the seasons stretching from the Hudson River to the Palisades. Cruises run daily through November 16. Enjoy the chance to admire the spectactular fall foliage in a completely new way: By boat! Plus, these elegant 1920s-style yachts make the experience extra special. In addition to gawking at the leaves, you'll also get to see iconic landmarks such as the George Washington Bridge, the Cloisters, the Palisades and the Little Red Light House. Plus, Classic Habor Line offers several more unique options, including the Urban Naturalist Tour: Fall Foliage of the Grand Palisades, which offers a light lunch and narration from an expert on history and nature facts. There's also the Grand Palisades Fall Foliage Schooner Sail if you're looking to travel largely by wind alone, with more time to contemplate the beautiful surroundings.\n"
          ]
        },
        {
          "name": "stderr",
          "output_type": "stream",
          "text": [
            "Creating embeddings:  28%|██▊       | 28/99 [00:07<00:17,  4.01it/s]"
          ]
        },
        {
          "name": "stdout",
          "output_type": "stream",
          "text": [
            "29.Oktoberfest celebrations One of the top things to do in New York this fall includes drinking some of the best beer in NYC during Oktoberfest. Take in the beautiful fall foliage while drinking at one of the best beer gardens and German eateries in New York City. This year’s events includeweeks-long waterside parties, brewery bashes and boozy feasts—all with plenty of German (and local!) beer. Prost!\n"
          ]
        },
        {
          "name": "stderr",
          "output_type": "stream",
          "text": [
            "Creating embeddings:  29%|██▉       | 29/99 [00:07<00:17,  3.97it/s]"
          ]
        },
        {
          "name": "stdout",
          "output_type": "stream",
          "text": [
            "30.BUBS candy \"Sweeteasy\" pop-up There's a magical word in Sweden—\"lördagsgodis\"—that describes the weekly tradition of indulging in candy every Saturday. Now, you can partake in that tradition (not just on Saturdays) thanks to a newly opened pop-up in Soho from Swedish candy brand BUBS. BUBS has been around since 1992, but it became TikTok famous in 2024 for its chewy-foamy and sweet-sour confections in darling designs. Now, the brand is hosting a \"Sweeteasy,\" a.k.a. its first U.S. pop-up. It's a Wonka-esque wonderland with sweet treats and colorful design at every turn. Inside, you'll find a pick-and-mix candy bar where you can craft your ultimate candy bag ($14.39/pound) with exclusive Swedish-only flavors, plus the brand's new U.S. lineup. Expect tutti-fruti, banana toffee, strawberry vanilla and lemon raspberry confections. There are plenty of photo opps inside, as well, and plenty of BUBS-branded merch you can purchase to take home. Find the Sweeteasy at 69 Mercer Street through October 22. The pop-up is free to enter with no tickets needed. It's open from 11am–7pm Monday-Saturday and 12–5 p.m. Sunday.\n"
          ]
        },
        {
          "name": "stderr",
          "output_type": "stream",
          "text": [
            "Creating embeddings:  30%|███       | 30/99 [00:08<00:17,  3.89it/s]"
          ]
        },
        {
          "name": "stdout",
          "output_type": "stream",
          "text": [
            "31.The Future Was Then: The Changing Face of Fascist Italy In a society constantly fearing \"fake news\" and manipulation by any prominent voice, there is nothing more important than education against persuasion. \"The Future Was Then: The Changing Face of Fascist Italy\" at Poster House will run until February 22, 2026 to ensure that powerful history is not forgotten. The exhibition follows the rise of Benito Mussolini's fascist regime—and how art played an important part. See 75 pieces from the world-renowned Fondazione Massimo e Sonia Cirulli in Bologna, Italy. This expansive exhibition chronicles the length of Mussolini’s regime, focusing on the often blurred line between propaganda and art.\n"
          ]
        },
        {
          "name": "stderr",
          "output_type": "stream",
          "text": [
            "Creating embeddings:  31%|███▏      | 31/99 [00:08<00:16,  4.06it/s]"
          ]
        },
        {
          "name": "stdout",
          "output_type": "stream",
          "text": [
            "32.Blazing A Trail: Dorothy Waugh’s National Parks Posters For New Yorkers, the National Parks of the U.S. may seem far away. But through February 22, 2026, Poster House is bringing the parks to us in \"Blazing A Trail: Dorothy Waugh’s National Parks Posters.\" It's the first exhibition dedicated to Waugh's parks campaign. \"Blazing A Trail\" features 17 travel posters designed between 1934 and 1936 by landscape architect and highly trained artist Dorothy Waugh, created for the National Park Service’s first ever poster campaign. Before Waugh came along, it was actually America’s railroad companies who were the main source of advertising for the National Parks Service in the 1870s. Their posters were, yes, attractive, but very conventional. Waugh was the first to advocate for the bureau to produce its own poster campaign, along with styling and messaging, separate from the railroads. Waugh continued this work for the rest of the 20th century, leaving a legacy that endures today.\n"
          ]
        },
        {
          "name": "stderr",
          "output_type": "stream",
          "text": [
            "Creating embeddings:  32%|███▏      | 32/99 [00:08<00:16,  4.07it/s]"
          ]
        },
        {
          "name": "stdout",
          "output_type": "stream",
          "text": [
            "33.\"Witnessing Humanity: The Art of John Wilson\" at the Met For over 60 years, American artist John Wilson created powerful and poetic works that reflected his life as a Black American artist and his ongoing quest for racial, social and economic justice. Until February 8, 2026, The Met on Fifth Avenue will host his first-ever solo museum show with more than 100 paintings, prints, drawings, sculptures and illustrated books. To start, the exhibition showcases work Wilson made while at art school in Boston, where his subjects included the horrors of Nazi Germany and American racial violence, as well as portraits of his family and neighborhood. Wilson happened to be a traveler, and work from his time in Paris, Mexico City and New York will also be on view. Finally, the exhibition concludes with Wilson’s return to Boston and his focus on portraiture. Wilson's sculpture of Dr. Martin Luther King Jr. at the United States Capitol and the monumental sculptureEternal Presence, two of his most celebrated works, will be on display.\n"
          ]
        },
        {
          "name": "stderr",
          "output_type": "stream",
          "text": [
            "Creating embeddings:  34%|███▍      | 34/99 [00:09<00:16,  3.89it/s]"
          ]
        },
        {
          "name": "stdout",
          "output_type": "stream",
          "text": [
            "34.Handmade Happy Hour Get your hands dirty and jump into the world of ceramics with Handmade Happy Hour—Greenwich House Pottery's new Friday night happy hour pottery classes this fall. These classes are perfect for beginners or pottery experts at any level, as you'll be guided by an expert teaching artist and provided all the tools and materials needed to make your pottery creation. Once you're done with your masterpiece and you've picked a glaze, they'll fire the piece to over 2000 degrees—then you can pick it up in about three weeks. It's a perfect night out for friends, a date or even going solo and meeting new creative friends. Every class is BYOB. Classes run from 7:30 to 9:30pm and cost $105 per person. The full schedule is here: •Oct. 10: Pottery Wheel•Oct. 17: Handbuilding Project•Oct. 24: Pottery Wheel•Nov. 7: Handbuilding Project•Nov. 14: Pottery Wheel•Nov. 21: Handbuilding Project•Dec. 5: Pottery Wheel•Dec. 12: Handbuilding Project\n",
            "35.Ai Weiwei's Camouflage World-renowned artist and activist Ai Weiwei is set to unveilCamouflage, a monumental new installation on Roosevelt Islandthrough December 1 that marks bothhis return to New Yorkand the launch of a new public art initiative: Art X Freedom. Opening to coincide with the 80th anniversary of the end of World War II and the 80th session of the U.N. General Assembly,Camouflagewill transform Four Freedoms Park into a contemplative sanctuary draped in netting. Visitors will be able to contribute handwritten reflections on freedom, tying them to the fabric of the work in a gesture of collective memory and resistance.\n"
          ]
        },
        {
          "name": "stderr",
          "output_type": "stream",
          "text": [
            "Creating embeddings:  35%|███▌      | 35/99 [00:09<00:15,  4.23it/s]"
          ]
        },
        {
          "name": "stdout",
          "output_type": "stream",
          "text": [
            "36.\"The New York Sari\" exhbit Most people associate the sari with its South Asian origin. The New York Historical adds another layer to the garment's story by unearthing how the sari—and those who wear it—made New York City its home in a new exhibit opening soon.\"The New York Sari: A Journey Through Tradition, Fashion, and Identity\" is on viewthrough April 2026. This exhibition traces the path of the sari from the Indian subcontinent to NYC, going from exotic object of trade to a tradition embraced by many communities. The sari holds many different identities; whether it be within consumer empires, dance and performance or explorations of gender and identity, museum officials explained.\n"
          ]
        },
        {
          "name": "stderr",
          "output_type": "stream",
          "text": [
            "Creating embeddings:  36%|███▋      | 36/99 [00:09<00:15,  4.15it/s]"
          ]
        },
        {
          "name": "stdout",
          "output_type": "stream",
          "text": [
            "37.\"Man Ray: When Objects Dream\" at the Met On a cold winter day in 1921, artist Man Ray placed some of his glass equipment on top of an unexposed sheet of photographic paper he found among the prints in his developing tray. This \"mistake\" produced something the artist would later dub a \"rayograph,\" and was essentially a photo taken without a camera. The works' transformative nature led the Dada poet Tristan Tzara to describe rayographs as capturing the moments \"when objects dream,\" and you can see those pieces on display at The Met until February 2026. Drawing from the collections of The Met and more than 50 U.S. and international lenders, the presentation will include more than 60 rayographs and 100 paintings, objects, prints, drawings, films and photographs to highlight the central role of the rayograph in Man Ray’s  practice.\n"
          ]
        },
        {
          "name": "stderr",
          "output_type": "stream",
          "text": [
            "Creating embeddings:  37%|███▋      | 37/99 [00:09<00:15,  4.11it/s]"
          ]
        },
        {
          "name": "stdout",
          "output_type": "stream",
          "text": [
            "38.\"Masquerade\" immersive experience The Phantom of the Operahasended its 35-year Broadway run, but you can't keep a masked man down for long. The Andrew Lloyd Webber musical—adapted by the composer and Richard Stilgoe from Gaston Leroux's 1910 horror novel—is already somehow here again, and in a surprising new form.It's now an immersive experience, à laSleep No More, in which audiences are leden masquethrough multiple locations in a complex designed to evoke the 19th-century Paris Opera House where soprano Christine Daaé is tutored and stalked by a serial killer who lives in the basement. Six groups of 60 spectators at a time enter at staggered 15-minute intervals; each group gets its own Phantom and Christine, but the other roles are played by one to four actors each; to help sustain the atmosphere, audience members must wear black, white or silver cocktail or formal attire—and, hopefully, comfortable shoes. (Masks are provided for those who do not bring their own.)\n"
          ]
        },
        {
          "name": "stderr",
          "output_type": "stream",
          "text": [
            "Creating embeddings:  38%|███▊      | 38/99 [00:10<00:15,  3.87it/s]"
          ]
        },
        {
          "name": "stdout",
          "output_type": "stream",
          "text": [
            "39.An Ecology of Quilts: The Natural History of American Textiles Wrap yourself up in the artistry of quilts at a new exhibit this fall. The American Folk Art Museum is launching a new exhibition, \"An Ecology of Quilts: The Natural History of American Textiles\" as part of its Lincoln Square reopening. The exhibition features approximately 30 quilts spanning the 18th to 20th centuries and weaves together the relationships between the environment and traditional quilting practices. The show, curated by Emelie Gevalt, promises \"a groundbreaking exploration of the natural history of American textiles.\" It will take an ecological perspective into the many facets of global material culture that emerged in the early American republic through the 20th century. The exhibit will be on view until March 1, 2026.\n"
          ]
        },
        {
          "name": "stderr",
          "output_type": "stream",
          "text": [
            "Creating embeddings:  39%|███▉      | 39/99 [00:10<00:14,  4.11it/s]"
          ]
        },
        {
          "name": "stdout",
          "output_type": "stream",
          "text": [
            "40.\"Amaze\" magic show The British conjurer Jamie Allan (iMagician), a Houdini aficionado who has made his reputation by infusing newfangled technology and emotionally charged storyelling into old-school tricks, appears at New World Stages for a limited run. This latest showcase is directed by Jonathan Goodwin and co-created with Allan's longtime partner in illusions, Tommy Bond.\n"
          ]
        },
        {
          "name": "stderr",
          "output_type": "stream",
          "text": [
            "Creating embeddings:  41%|████▏     | 41/99 [00:10<00:13,  4.19it/s]"
          ]
        },
        {
          "name": "stdout",
          "output_type": "stream",
          "text": [
            "41.Latin Mix Saturdays Experience the ultimate Saturday night at Time Out Market’s Rooftop Latin Mix Party! Join resident DJ Torres and friends for an unforgettable evening of reggaetón, salsa, merengue, bachata, Latin house and more. Dance the night away under the stars, sip on specialty cocktails from Bacardi and soak in the breathtaking views of the iconic NYC skyline. Make your Saturday nights come alive at Time Out Market! Remember, all seating is on a first-come, first-served basis!\n",
            "42.The New Yorker in Dog Years Over its 100 years in print,The New Yorkerhas devoted dozens of its famed covers to some of the coolest residents of New York City: Dogs. A new exhibit, \"The New Yorker in Dog Years\" exhibition at AKC Museum of the Dog in Murray Hill, features 44 dog-themedNew Yorkercovers on display in celebration of their centennial anniversary. See works by Peter Arno, James Thurber, Charles Addams, Helen Hokinson and Mark Urliksen and more. Along with admiring the artwork, you can learn the story behind each cover with detailed commentary on each one. Themes such as dog shows, grooming, country life and sports will be featured.\n"
          ]
        },
        {
          "name": "stderr",
          "output_type": "stream",
          "text": [
            "Creating embeddings:  42%|████▏     | 42/99 [00:11<00:13,  4.12it/s]"
          ]
        },
        {
          "name": "stdout",
          "output_type": "stream",
          "text": [
            "43.Arte Museum Lose yourself in immersive digital art, evocative soundscapes and custom-crafted scents at the new Arte Museum. The museum promises \"a multi-sensory journey beyond time and space\" with dazzling installations inspired by the beauty of nature. The experience is heightened by soundscapes from acclaimed composer Young-gyu Jang and custom-crafted fragrances by master perfumer Marianne Nawrocki Sabatier. After the experience, you can unwind at Arte Cafe, offering fusions of tea as well as media art. From beginning to end, it's packed with Instagrammable moments. Expect to spend about an hour-and-a-half at this experience at 61 Chelsea Piers this fall.\n"
          ]
        },
        {
          "name": "stderr",
          "output_type": "stream",
          "text": [
            "Creating embeddings:  43%|████▎     | 43/99 [00:11<00:13,  4.23it/s]"
          ]
        },
        {
          "name": "stdout",
          "output_type": "stream",
          "text": [
            "44.\"Slavery Trails\" augmented reality exhibition When slavery is taught in an educational setting, perspectives are often erased or overlooked. Marcus Brown, a New Orleans-based artist with enslaved African ancestors, aims to share the stories of enslaved people with four free Augmented Reality (AR) exhibitions across New York City opening July 25 and running through July 2026. As part of the city's Arts in the Park initiative, Brown's \"Slavery Trails\" takes historical sites that are tied to slavery and crafts them into digital memorials using sculpture and AR that visitors may access via mobile device. Manhattan will house two exhibitions while Brooklyn and Queens will showcase one; \"merging technology, music and history into public memory spaces that honor the enslaved and challenge contemporary narratives,\" according to a press release about the exhibition.\n"
          ]
        },
        {
          "name": "stderr",
          "output_type": "stream",
          "text": [
            "Creating embeddings:  45%|████▌     | 45/99 [00:11<00:11,  4.52it/s]"
          ]
        },
        {
          "name": "stdout",
          "output_type": "stream",
          "text": [
            "45.RaaaatScraps: The Best Improv Show in the World From the people who brought you Asssscat comes this Sunday comedy series, taking over Caveat NYC every weekend. A guest monologist (previous monologists include Gloria Steinem, Mark Hamill, Kevin Bacon and Bowen Yang) will tell true stories from their life and the performers—some of NYC's best improvisers, including Zach Cherry (Succession), Connor Ratliff (The Marvelous Mrs. Maisel), Jeff Hiller (Somebody Somewhere) and more—will use them as inspiration to make up scenes on the spot. It's a perfect way to banish the Sunday scaries with a laugh.\n",
            "46.\"Dining in Transit\" at The New York Historical It's nearly impossible to imagine nowadays with limp hot dogs served on Amtrak and unpalatable mystery meats offered on commercial flights, but dining on trains and in the air actually used to be delightful. A new exhibit at The New York Historical showcases the culinary excellence served aboard airplanes, trains and ocean liners in the first half of the 20th century. Titled \"Dining in Transit,\" the exhibit explores how travel dining evolved—from hiring French chefs to crafting signature dishes to unveiling the deeper stories of race and gender that shaped the industry. It also features some fascinating artifacts, such as souvenir menus, promotional recipe books, employee handbooks, collectible tableware and a stewardess hat.\n"
          ]
        },
        {
          "name": "stderr",
          "output_type": "stream",
          "text": [
            "Creating embeddings:  46%|████▋     | 46/99 [00:12<00:12,  4.41it/s]"
          ]
        },
        {
          "name": "stdout",
          "output_type": "stream",
          "text": [
            "47.\"Fragile Giants\" sculptures on Park Avenue In the shadow of the Empire State Building, a nine-foot-tall gorilla gazes toward the iconic skyscraper. A few steps away, a massive brown bear raises its head curiously, and a polar bear lifts a paw into the air. These gigantic sculptures newly placed along Park Avenue look remarkably lifelike—and incredibly cute. They also raise important messages about the beauty and vulnerability of the natural world, especially endangered species. The sculpture collection by renowned French artist Michel Bassompierre titled \"Fragile Giants\" is on view along Park Avenue between 34th and 38th Streets. This open-air gallery is free to visit through May 11, 2026.\n"
          ]
        },
        {
          "name": "stderr",
          "output_type": "stream",
          "text": [
            "Creating embeddings:  47%|████▋     | 47/99 [00:12<00:11,  4.38it/s]"
          ]
        },
        {
          "name": "stdout",
          "output_type": "stream",
          "text": [
            "48.\"Viola's Room\" immersive theater experience Punchdrunk’sSleep No Moregave up the ghostlast fallafter 14 years, but fans of that immersive theatrical experience havea new show to tide them over: a smaller-scale work byPunchdrunk founder Felix Barrett that invites audience members to move barefoot through a labyrinthine installation inspired byBarry Pain’s 1901 gothic short story “The Moon-Slave,\" as adapted by the acclaimed British writerDaisy Johnson. Participants wear headphones and are guided through the 50-minute experience at the Shed via narrationin the voice ofHelena Bonham Carter.\n"
          ]
        },
        {
          "name": "stderr",
          "output_type": "stream",
          "text": [
            "Creating embeddings:  48%|████▊     | 48/99 [00:12<00:14,  3.50it/s]"
          ]
        },
        {
          "name": "stdout",
          "output_type": "stream",
          "text": [
            "49.City Climb at Edge City Climb—which is the highest external building climb in the world on the Western Hemisphere's tallest observation deck,Edge—tethers brave thrillseekers to a secure trolly along the outside of the building and open, edged platforms and stairways. Two cables will keep you secure on a path that leads up 32 steps to “The Cliff,” an outlook 1,190 feet in the sky and to “The Stair,” which consists of 151 steps on a 45-degree incline. “The Apex” is where they can lean out and hang over the platform at 1,271 feet. Are your knees buckling yet?Here’s what it was like to climb it.It all finishes with a victory lap on Edge's outdoor viewing area on the 100th floor (and a celebratory medal for inaugural guests).\n"
          ]
        },
        {
          "name": "stderr",
          "output_type": "stream",
          "text": [
            "Creating embeddings:  49%|████▉     | 49/99 [00:13<00:14,  3.46it/s]"
          ]
        },
        {
          "name": "stdout",
          "output_type": "stream",
          "text": [
            "50.\"Aunties\" sculptures in Harlem Three colorful figures are now brightening up the intersection of 124th Street and Lenox Avenue in Harlem: Called \"Aunties,\" these figurative sculptures by local artist Fitgi Saint-Louis honor the women who passionately nurture and embolden the Harlem community. As the artist puts it, \"Aunties is an ode to the collective of women, builders, leaders, caretakers, changemakers and creatives who transform Harlem and beyond all while having impeccable style.\" You can visit the artwork through April 2026.\n"
          ]
        },
        {
          "name": "stderr",
          "output_type": "stream",
          "text": [
            "Creating embeddings:  51%|█████     | 50/99 [00:13<00:13,  3.74it/s]"
          ]
        },
        {
          "name": "stdout",
          "output_type": "stream",
          "text": [
            "51.Van Gogh’s Flowers at New York Botanical Garden TheNew York Botanical Gardeninvites New Yorkers to step into the world of Vincent van Gogh—not through a frame on a museum wall, but through fields of sunflowers, sweeping bursts of color and sculptural still lifes that bloom around you.Van Gogh’s Flowers, on view through October 26, transforms the Garden’s 250 acres into a kaleidoscopic celebration of the artist’s lifelong obsession with nature. This isn’t just a flower show. The exhibition brings Van Gogh’s expressive canvases off the wall and into the wild, pairing his iconic works with contemporary interpretations and living installations. Whether you’re a lifelong Van Gogh fan, an avid gardener or just looking for a dose of color and calm, Van Gogh’s Flowers offers a lush, unforgettable journey into the mind of an artist who saw beauty in every petal.\n"
          ]
        },
        {
          "name": "stderr",
          "output_type": "stream",
          "text": [
            "Creating embeddings:  52%|█████▏    | 51/99 [00:13<00:17,  2.78it/s]"
          ]
        },
        {
          "name": "stdout",
          "output_type": "stream",
          "text": [
            "52.Torch & Crown's open-air beer garden Torch & Crown Brewing Companyhas taken over part ofUnion Square Parkfor its seasonal pop-up: Torch & Crown Beer Garden. For its third season in a row, the brewery is bringing its lineup of locally-made beers and bites to the square now through early November. Commandeering the historic Union Square Pavilion and the square surrounding it, the indoor-outdoor space welcomes all (even dogs!) to enjoy the festivities no matter the weather. The seasonal venue is the brewery's only offshoot outsideofits operation in SoHo.\n"
          ]
        },
        {
          "name": "stderr",
          "output_type": "stream",
          "text": [
            "Creating embeddings:  53%|█████▎    | 52/99 [00:14<00:15,  3.08it/s]"
          ]
        },
        {
          "name": "stdout",
          "output_type": "stream",
          "text": [
            "53.\"Path of Liberty: That Which Unites US\" What does it mean to be American? That's the question a new immersive art exhibition in Manhattan seeks to answer. Called \"Path of Liberty: That Which Unites US,\" this installation takes over six acres in Midtown East with massive screens sharing the voices of 50 Americans from across the nation. You'll hear their thoughts on democracy, liberty, freedom and unity. Path of Liberty is free to visit with reservations availablehere. The exhibition opens as America approaches the 250th anniversary of its founding, which will be celebrated in 2026. Find \"Path of Liberty: That Which Unites US\" on Manhattan’s East Side from 38th to 41st Street along First Avenue. It's open free of charge every Thursday through Saturday from 8-11pm.\n"
          ]
        },
        {
          "name": "stderr",
          "output_type": "stream",
          "text": [
            "Creating embeddings:  54%|█████▎    | 53/99 [00:14<00:13,  3.32it/s]"
          ]
        },
        {
          "name": "stdout",
          "output_type": "stream",
          "text": [
            "54.“Superfine: Tailoring Black Style” at the Met If you’ve ever walked down a Harlem block or past Fulton Street and thought, “Damn, that’s a look,” you already understand the heart of “Superfine: Tailoring Black Style,” the Metropolitan Museum of Art Costume Institute’s razor-sharp spring exhibition that puts the precision, politics and poetry of Black menswear on full, unapologetic display.Let’s just say it: this is one of the Met’s coolest shows in years.\n"
          ]
        },
        {
          "name": "stderr",
          "output_type": "stream",
          "text": [
            "Creating embeddings:  56%|█████▌    | 55/99 [00:14<00:11,  3.88it/s]"
          ]
        },
        {
          "name": "stdout",
          "output_type": "stream",
          "text": [
            "55.“Gardens of Renewal” by Lily Kwong When in need of a mental break, get yourself toMadison Square Parkto walk along a new meditative spiral pathway aptly dubbed \"Gardens of Renewal.\" Located across the park’s Redbud and Sparrow Lawns, the new path is a beautifully landscaped spiral that invites reflection while highlighting the political urgency of the climate crisis. As visitors walk through, they’ll encounter a planting palette made up of increasingly rare—and nearly disappearing—native species. Artist Lily Kwong (you may remember her fromher gorgeous orchid showa few years ago) collaborated with the Madison Square Park Conservancy to create the destination, which will be accessible through Labor Day.\n",
            "56.“Foot Fountain (pink)” There’s a sculpture on the High Line right now that’s causing some folks to question the content of their Instagram feeds. Mika Rottenberg’s “Foot Fountain (pink)” sits in all its weird glory at the 30th Street entrance, sputtering out water from its rather phallic top, through May 2026. “Foot Fountain (pink)” is a giant pink foot and lower leg that stands 10 feet tall and is peppered with tongues that stick out of lipsticked mouths. Its toenails are splashed with red nail polish, too. But the real kicker is the sculpture’s function: the working sprinkler on top can be activated by moving a set of pedals nearby, surprising or delighting passersby.\n"
          ]
        },
        {
          "name": "stderr",
          "output_type": "stream",
          "text": [
            "Creating embeddings:  57%|█████▋    | 56/99 [00:14<00:11,  3.83it/s]"
          ]
        },
        {
          "name": "stdout",
          "output_type": "stream",
          "text": [
            "57.Rooftop Cinema Club Rooftop Cinema Club takes movie-going to a whole new level—literally. This rooftop film series at a midtown skyscraper offers stunning views and an impressive lineup of films. In addition to the movie magic, the venue also offers movie snacks, a full bar and cute photo opps. This season features movies that will appeal to ‘90s kids, aGreasesing-along, Pride films, Wine Wednesdays and lots more. Here’s the full list of what’s coming toRooftop Cinema Club’s big screen.\n"
          ]
        },
        {
          "name": "stderr",
          "output_type": "stream",
          "text": [
            "Creating embeddings:  58%|█████▊    | 57/99 [00:15<00:11,  3.75it/s]"
          ]
        },
        {
          "name": "stdout",
          "output_type": "stream",
          "text": [
            "58.\"Urban Stomp: Dreams & Defiance on the Dance Floor\" The foxtrot, lindy hop, salsa, hustle and vogue all have roots in New York City, whether they were born here, shaped here or popularized in the city’s clubs. A new exhibit atMuseum of the City of New Yorkturns the museum into a dance floor as it digs into the fascinating history and important role of these dances and more. “Urban Stomp: Dreams & Defiance on the Dance Floor” celebrates 200 years of social dance in New York City. It highlights the city’s dance floors as sites for connection, creativity and joyful rebellion. You’ll get to see everything from 1800s-era ball gowns to Louis Armstrong’s trumpet to Celia Cruz’s shoes to Big Daddy Kane’s outfits. Plus, digital screens throughout the exhibition offer dance lessons—and it’s nearly impossible not to move your body when the music starts. Grab your dancing shoes, and go see it now through February 22, 2026 in East Harlem.\n"
          ]
        },
        {
          "name": "stderr",
          "output_type": "stream",
          "text": [
            "Creating embeddings:  59%|█████▊    | 58/99 [00:15<00:11,  3.53it/s]"
          ]
        },
        {
          "name": "stdout",
          "output_type": "stream",
          "text": [
            "59.BQ Flea The Brooklyn Flea's newest flea market returns to the underpass of theBrooklyn-Queens Expressway along Meeker Avenue between Union and Lorimer Avenues. Every Sunday from 10am to 5pm, peruse a trunk-style market wherevendors sell vintage finds, cool collectibles, and handmade goods right out of their cars, with a lineup curated by the people behind the beloved and renown Brooklyn Flea. Along with being a great spot to hunt for hidden gems, the BQ Flea is also a perfect weekend stop for good local food and a lackback community vibe.\n"
          ]
        },
        {
          "name": "stderr",
          "output_type": "stream",
          "text": [
            "Creating embeddings:  60%|█████▉    | 59/99 [00:15<00:10,  3.66it/s]"
          ]
        },
        {
          "name": "stdout",
          "output_type": "stream",
          "text": [
            "60.Queens Night Market It’s hard to get good food on the cheap, but for ten years, Queens Night Market has prided itself on offering the city’s best eats for just $5-6. Ranked one of the best food festivals in the U.S., the festival runs on Saturday nights through the fall at the New York Hall of Science in Flushing Meadows Corona Park.There will also be other items sale besides food, including vintage apparel, handmade jewelry, ceramic products, locally produced art pieces, crochet toys, stationery, and much more.\n"
          ]
        },
        {
          "name": "stderr",
          "output_type": "stream",
          "text": [
            "Creating embeddings:  61%|██████    | 60/99 [00:16<00:09,  3.93it/s]"
          ]
        },
        {
          "name": "stdout",
          "output_type": "stream",
          "text": [
            "61.\"New York Roots\" in the Garment District Midtown’s Garment District has been home to creativity and invention for decades and, now it's home to a massive metal sculpture that seems to be \"growing\" out of the cement. Titled \"New York Roots,\" the installation by Steve Tobin is theGarment District Alliance'slatest public exhibit on the Broadway plazas between 39th and 40th Streets and 40thand 41stStreets. Seven sculptures invite you to weave in an out of their roots and \"reflect on relationships, families and communities coming together for a shared purpose—just as roots intertwine to strengthen a tree,\" per the Alliance. See it through February 2026.\n"
          ]
        },
        {
          "name": "stderr",
          "output_type": "stream",
          "text": [
            "Creating embeddings:  62%|██████▏   | 61/99 [00:16<00:09,  4.00it/s]"
          ]
        },
        {
          "name": "stdout",
          "output_type": "stream",
          "text": [
            "62.“Mission: Impossible—Story and Spectacle” at MOMI If you're a diehard fan of seeing Tom Cruise hanging dangerously off of a cliff or out of a helicopter or from the side of a skyscraper, this is the museum exhibit for you. Now through December 14, Museum of the Moving Image (MoMI) in Astoria is celebrating the pop-culture phenomenon that is theMission: Impossiblefilm franchise withMission: Impossible—Story and Spectacle, an exhibition that immerses visitors in the remarkable stuntsandkey dramatic moments of the decade-spanning series. Sections of the exhibition will be devoted to each film in the series, spotlighting each title's mind-boggling stuntwork and action sequences as well as behind-the-scenes content of how it all came together onscreen.\n"
          ]
        },
        {
          "name": "stderr",
          "output_type": "stream",
          "text": [
            "Creating embeddings:  63%|██████▎   | 62/99 [00:16<00:09,  3.89it/s]"
          ]
        },
        {
          "name": "stdout",
          "output_type": "stream",
          "text": [
            "63.\"Dead Outlaw\" on Broadway The team behind the lovely, Tony-winning musicalThe Band's Visit—book writer Itamar Moses, composer David Yazbek and director David Cromer, now joined by songwriter Erik Della Penna—reunites to tell the very weird story of Elmer McCurdy: a Wild West outlaw whose corpse toured the country for decades as a side-show mummy. The show's Off Broadway premiere last year earned it multiple prizes, includes the Drama Critics' Circle Award for Best Musical; the cast for the Broadway transfer has not yet been announced.\n"
          ]
        },
        {
          "name": "stderr",
          "output_type": "stream",
          "text": [
            "Creating embeddings:  64%|██████▎   | 63/99 [00:16<00:09,  3.93it/s]"
          ]
        },
        {
          "name": "stdout",
          "output_type": "stream",
          "text": [
            "64.Smorgasburg Smorgasburg, the food bazaar spectacular, is back with dozens of great local vendors across three locations. SmorgasburgWTC runs on Fridays; Williamsburg is on Saturdays; and Prospect Park is on Sundays. Each location is open weekly through October. For its 15th year of outdoor food and fun, Smorgasburg will showcase more than 70 vendors. The food festival will be filled withfragrant Ethiopian stews, Hawaii-style street comforts, explosive pani puri, potato puff poutine and lots more.\n"
          ]
        },
        {
          "name": "stderr",
          "output_type": "stream",
          "text": [
            "Creating embeddings:  65%|██████▍   | 64/99 [00:17<00:09,  3.76it/s]"
          ]
        },
        {
          "name": "stdout",
          "output_type": "stream",
          "text": [
            "65.\"Breaking the Mold: Brooklyn Museum at 200\" exhibit The Brooklyn Museum is celebrating a big birthday. As the museum turns 200, it’s marking the occasion with a sprawling exhibition that celebrates the museum's history, showcases artists from the borough and highlights new gifts in the collection. The massive show highlights hundreds of paintings, sculptures, and photographs pulled from the impressive museum’s full collection of 140,000 items. “Breaking the Mold: Brooklyn Museum at 200” is now open through February 22, 2026.\n"
          ]
        },
        {
          "name": "stderr",
          "output_type": "stream",
          "text": [
            "Creating embeddings:  66%|██████▌   | 65/99 [00:17<00:08,  3.81it/s]"
          ]
        },
        {
          "name": "stdout",
          "output_type": "stream",
          "text": [
            "66.WWII exhibit at the Intrepid Museum It's hard to imagine now in our globalized world, but many of the young American soldiers who headed onto massive ships like the USSIntrepidduring World War II had never even seen the ocean before. They’d soon be navigating the Pacific, launching planes off of aircraft carriers and battling Axis enemies. Now, the stories of those military members are on display in a new permanent exhibit atthe Intrepid Museum, the historic aircraft carrier docked along the Hudson River in Hell’s Kitchen, which served from 1943 to 1974. The new 10,000-square-foot exhibit includes 50 never-before-seen artifacts, crew member oral histories, videos and photos showcasing the ship's history. Plus, you’ll get to see the museum’s newest WWII aircraft acquisition, a legendary fighter-bomber called the FG-1D Corsair. Planes just like it often flew off of Intrepid’s flight deck during the war.\n"
          ]
        },
        {
          "name": "stderr",
          "output_type": "stream",
          "text": [
            "Creating embeddings:  67%|██████▋   | 66/99 [00:17<00:08,  3.96it/s]"
          ]
        },
        {
          "name": "stdout",
          "output_type": "stream",
          "text": [
            "67.\"Stranger Things: The First Shadow\" on Broadway The spectacularly designed stage prequel toStranger Thingsexpands the universe of the popular Netflix show with an original story set in the late 1950s. The play depicts the early years of central series characters including Joyce Maldonaldo, Jim Hopper, Bob Newby and Dr. Martin Brenner; playwright Kate Trefry, a longtime staff writer for the TV version, has devised the story with series creators Matt and Ross Duffer andHarry Potter and theCursed Childplaywright Jack Thorne.\n"
          ]
        },
        {
          "name": "stderr",
          "output_type": "stream",
          "text": [
            "Creating embeddings:  68%|██████▊   | 67/99 [00:17<00:07,  4.13it/s]"
          ]
        },
        {
          "name": "stdout",
          "output_type": "stream",
          "text": [
            "68.\"Just in Time\" On the heels of his Tony-winning performance in last season'sMerrily We Roll Along, Broadway sweetie Jonathan Groff returns to star as pop and nightclub star Bobby Darin, who peaked in the late 1950s with such hits as \"Dream Lover,\" \"Beyond the Sea\" and \"Mack the Knife.\" Alex Timbers (Moulin Rouge!) directs an immersive production at Circle in the Square, with a cast that features Michele Pawk, John Treacy Egan and Caesar Samayoa. The hits are strung together through an original book by Warren Leight (Side Man) and comic essayist Isaac Oliver (Intimacy Idiot).\n"
          ]
        },
        {
          "name": "stderr",
          "output_type": "stream",
          "text": [
            "Creating embeddings:  69%|██████▊   | 68/99 [00:18<00:09,  3.31it/s]"
          ]
        },
        {
          "name": "stdout",
          "output_type": "stream",
          "text": [
            "69.Laser tag at mini-bowling at Area 53 Tucked away on Bridge Street in an old factory basement, this two-story playscape for kidsandadults contains ample room for fun, including laser tag, mini-bowling and arcade games. Laser tag games are comprised of three 10-15-minute matches, where you bob and weave around rustic columns and obstacles Area 53 has set up. Across an hour-and-a-half, you and your friends will be giggling and screaming as you \"shoot\" each other's guns to gain points. It's not for the faint of heart—running to avoid lasers is a workout, but a super fun one. We'd recommend checking out its \"After Dark\" laser tag and mini-bowling for those 18+ on Thursday nights. Area 53's mini-bowling allows for up to six people to knock down pins across 25 minutes and its arcade has traditional games, from basketball shooting games to racing games and claw machines.\n"
          ]
        },
        {
          "name": "stderr",
          "output_type": "stream",
          "text": [
            "Creating embeddings:  70%|██████▉   | 69/99 [00:18<00:08,  3.35it/s]"
          ]
        },
        {
          "name": "stdout",
          "output_type": "stream",
          "text": [
            "70.INTER's interstellar immersive experience If space is looking pretty good to you right now, there’s a chance to escape to the wide expanse even if only for an hour. INTER, the experiential, multi-sensory museum in Soho, has been reimagined to be an immersive intergalactic adventure. From the creative minds behind theMuseum of Ice Creamand photography center Fotografiska, INTER, insidethe old First National City Bank of New York, first opened in a beta version in November 2022 butofficially opened in May 2023, with abstract digital art of images evoking natural phenomena like earth, fire and water, its own floral tunnel, an infinity room and a water installation. But now, it has more than 10 immersive exhibits using light, sound and digital projection to transport you to another galaxy.\n"
          ]
        },
        {
          "name": "stderr",
          "output_type": "stream",
          "text": [
            "Creating embeddings:  71%|███████   | 70/99 [00:18<00:07,  3.65it/s]"
          ]
        },
        {
          "name": "stdout",
          "output_type": "stream",
          "text": [
            "71.\"The New Yorker\" exhibit TheNew Yorker, one of the most revered New York-based publications in the country, is officially turning 100 years old, and the New York Public Library is stepping in to celebrate the occasion. The library has debuted a new exhibit titled “A Century ofThe New Yorker”showcasing the magazine's history from its 1925 launch to the present, highlighting the stories and ideas that have defined it throughout the years. The exhibition will be mounted for a full year. Attendees will have the opportunity to view old covers, rare manuscripts, photographs, founding documents and, of course, an archive of cartoon art that defines the magazine's aesthetic.\n"
          ]
        },
        {
          "name": "stderr",
          "output_type": "stream",
          "text": [
            "Creating embeddings:  72%|███████▏  | 71/99 [00:18<00:07,  3.78it/s]"
          ]
        },
        {
          "name": "stdout",
          "output_type": "stream",
          "text": [
            "72.The newly renovated Rockefeller Wing at The Met After a four-year renovation, The Metropolitan Museum of Art has reopened its galleries dedicated to the arts of Africa, the Ancient Americas and Oceania. These historic galleries, housed within the Michael C. Rockefeller Wing, are packed with 1,800 artworks spanning five continents and hundreds of cultures. Inside the galleries, you’ll find several objects on view for the first time, including new acquisitions of contemporary African works and new commissions by Indigenous artists for the Oceania galleries. Also don’t miss a gallery dedicated to light-sensitive ancient Andean textiles, which is the first of its kind in the United States.\n"
          ]
        },
        {
          "name": "stderr",
          "output_type": "stream",
          "text": [
            "Creating embeddings:  73%|███████▎  | 72/99 [00:19<00:09,  2.96it/s]"
          ]
        },
        {
          "name": "stdout",
          "output_type": "stream",
          "text": [
            "73.Wicked-themed Book-a-Bath at Lush Spa Want to feel like you can practically defy gravity? You can do just that at Lush Spa with theirWicked-themed book-a-bath experience. In partnership with Universal Studios, the Upper East Side spa is completely decked out withWickedvibes. There's vivid green and glimmering gold decor, including taper candles and even wallpaper that says Oz. During the bath, you’ll get to enjoy a pink-and-green bath bomb, a soap shaped like the Emerald City, and a cleanser picked for your skin type. Instrumental versions of the Wicked soundtrack will play while you relax in the tub. It'sbookable nowfor $75 with appointments through late 2025.\n"
          ]
        },
        {
          "name": "stderr",
          "output_type": "stream",
          "text": [
            "Creating embeddings:  74%|███████▎  | 73/99 [00:19<00:08,  3.14it/s]"
          ]
        },
        {
          "name": "stdout",
          "output_type": "stream",
          "text": [
            "74.\"Maybe Happy Ending\" on Broadway The notion of robots discovering love—in a world where nothing lasts forever, including their own obsolescent technologies—could easily fall into preciousness or tweedom. Instead, it is utterly enchanting. As staged by Michael Arden (Parade),Maybe Happy Endingis an adorable and bittersweet exploration of what it is to be human, cleverly channeled through characters who are only just learning what that entails.\n"
          ]
        },
        {
          "name": "stderr",
          "output_type": "stream",
          "text": [
            "Creating embeddings:  75%|███████▍  | 74/99 [00:20<00:07,  3.34it/s]"
          ]
        },
        {
          "name": "stdout",
          "output_type": "stream",
          "text": [
            "75.\"Sunset Blvd.\" on Broadway In the 1950 film masterpieceSunset Boulevard, Hollywood glamour is a dead-end street. Stalled there with no one coming to find her—except perhaps to use her car—is Norma Desmond: a former silent-screen goddess who is now all but forgotten. Secluded and deluded, she haunts her own house and plots her grand return to the pictures; blinded by the spotlight in her mind, she is unaware that what she imagines to be a hungry audience out there in the dark is really just the dark.\n"
          ]
        },
        {
          "name": "stderr",
          "output_type": "stream",
          "text": [
            "Creating embeddings:  76%|███████▌  | 75/99 [00:20<00:06,  3.46it/s]"
          ]
        },
        {
          "name": "stdout",
          "output_type": "stream",
          "text": [
            "76.The Birch Trials exhibit at Fraunces Tavern As the Revolutionary War came to a close, British Loyalists and soldiers evacuated the colonies in droves. But the evacuation was more complicated for Black Loyalists, some of whom joined the British cause in response to offers of freedom. In 1783, the new government formed a special committee to review the eligibility of some Black Loyalists to evacuate with the British Army, and that committee met at Fraunces Tavern in Lower Manhattan. A new permanent exhibit at the Fraunces Tavern Museum explores this important moment in history. The exhibition first opened last year, and officials are now moving it to a larger permanent gallery within the museum. The new space will offer a chance to include recent new discoveries of significant information concerning the identities of individuals participating in theBirchTrialsand their inclusion in the Book of Negroes.\n"
          ]
        },
        {
          "name": "stderr",
          "output_type": "stream",
          "text": [
            "Creating embeddings:  77%|███████▋  | 76/99 [00:20<00:06,  3.66it/s]"
          ]
        },
        {
          "name": "stdout",
          "output_type": "stream",
          "text": [
            "77.Catacombs by Candlelight Tour This fascinating 90-minute tour introduces you to all the secrets of the 200-year-old Basilica of St. Patrick’s Old Cathedral. Enter areas off-limits to the public, including the Henry Erban Organ, the cemeteries, and top it all off with an exclusive walk-through of the Catacombs themselves. Even better, you will experience the whole tour by candlelight (romantic, if you ignore the dead bodies part). This unique and historic site serves as the final resting place for many prominent New Yorkers, including the Delmonico Family, General Thomas Eckert (a confidant of Abraham Lincoln), Honest John Kelly of Tammany Hall and the first resident Bishop of New York, Bishop John Connolly.\n"
          ]
        },
        {
          "name": "stderr",
          "output_type": "stream",
          "text": [
            "Creating embeddings:  78%|███████▊  | 77/99 [00:20<00:05,  3.80it/s]"
          ]
        },
        {
          "name": "stdout",
          "output_type": "stream",
          "text": [
            "78.\"The Subway Is...\" exhibit On October 27, 1904, New Yorkers dressed in their finest clothing and hosted dinner parties to celebrate the big news of the year. After four years of messy, sometimes controversial construction, a subway had opened in New York City. Officials didn't know if people would show up for its debut, but more than 100,000 people descended beneath the ground that evening to traverse the system's 9 miles and 28 stations. The next day, a Sunday, more than 1 million people showed up on the subway's first full open day. It may not seem like a big deal to us now, but the subway was revolutionary—and it still is. A fascinating new exhibit at the New York Transit Museum in Brooklyn digs into the history and the future of our underground rail system. Titled \"The SubwayIs...,\" the exhibition brings together artifacts, photos, multimedia installations, old advertisements, train models and more to tell the story of our city's subway system.\n"
          ]
        },
        {
          "name": "stderr",
          "output_type": "stream",
          "text": [
            "Creating embeddings:  79%|███████▉  | 78/99 [00:21<00:05,  3.91it/s]"
          ]
        },
        {
          "name": "stdout",
          "output_type": "stream",
          "text": [
            "79.Friday Night Vibes at Time Out Market Start your weekend off right at Time Out Market New York’s stunning rooftop! Friday Night Vibes gets the party going on the fifth floor at 7pm with tunes fromDJ Stretch(on the first and third Friday of every month) andDJ Price Is Right(on the second and fourth Friday). Dance the night away with specialty cocktails from the Market’s awesome bar and grab bites from one of two dozen kitchens including, Jacob’s Pickles, Bark Barbecue and Wayla.Enjoy it all to the incredible views of the East River, the NYC skyline and the Brooklyn and Manhattan Bridges.\n"
          ]
        },
        {
          "name": "stderr",
          "output_type": "stream",
          "text": [
            "Creating embeddings:  80%|███████▉  | 79/99 [00:21<00:05,  3.91it/s]"
          ]
        },
        {
          "name": "stdout",
          "output_type": "stream",
          "text": [
            "80.Xanadu Roller Arts This sprawling 16,000-square-foot space in Bushwick, designed to double as a concert venue and nightclub for up to 1,200 people, is the city’s first new wooden roller skating rink in over a decade. Xanadu is decorated with agiant black-and-white photo of a group of young Black skaters taken over 40 years ago, a model for the energy in the room today. There’s also a rinkside bar, serving drinks with names like Skaterade and Purple Rain with direct sightlines of all the action on the wood. And in the bathroom, a surprise DJ spins a soundtrack for patrons to dance to as they wash their hands, a cheeky setup Kataria calls, “Club Flush.”\n"
          ]
        },
        {
          "name": "stderr",
          "output_type": "stream",
          "text": [
            "Creating embeddings:  81%|████████  | 80/99 [00:21<00:04,  3.91it/s]"
          ]
        },
        {
          "name": "stdout",
          "output_type": "stream",
          "text": [
            "81.Second City comedy club Need a laugh?The Second City—the renowned comedy club with locations in Chicago and Toronto—just opened in Brooklyn, and you will definitely laugh out loud there. The New York City venue, which opened on the legendary club’s 65th anniversary, offers hilarious live comedy every single night of the week. The club has debuted \"The Second City Presents The Mainstage Revue 1: Ruthless Acts of Kindness,\" a completely original NYC revue, which has been created in conversation with the audience over the last ten-weeks. Some of the funniest names in comedy got their start at Second City. Just a few Second City alumni include: Bill Murray, Eugene Levy, Catherine O'Hara, Amber Ruffin,Keegan-Michael Key,Chris Farley, Tina Fey, Stephen Colbert, and Aidy Bryant. You might just see the next comedy star on this stage. The venue offers sketch shows and improv performances, along with a great restaurant and no drink minimums in a beautiful venue. Tickets start at $39.\n"
          ]
        },
        {
          "name": "stderr",
          "output_type": "stream",
          "text": [
            "Creating embeddings:  82%|████████▏ | 81/99 [00:21<00:04,  4.08it/s]"
          ]
        },
        {
          "name": "stdout",
          "output_type": "stream",
          "text": [
            "82.Grand Bazaar NYC Grand Bazaar is one of NYC’s oldest and largest marketplaces where you can buy vintage treasures, antiques, clothing and more goodies from more than 100 local merchants. Photographers, jewelers and furniture designers sell their best on Sundays between 10am and 5pm on the Upper West Side (77th Street at Columbus Avenue). Each week offers a different theme, from featuring women-owned businesses to focusing on handmade items to spotlighting international wares. The market runs both indoors and outdoors each week all year long.\n"
          ]
        },
        {
          "name": "stderr",
          "output_type": "stream",
          "text": [
            "Creating embeddings:  84%|████████▍ | 83/99 [00:22<00:03,  4.20it/s]"
          ]
        },
        {
          "name": "stdout",
          "output_type": "stream",
          "text": [
            "83.Puttery Puttery is an adults-only mini-golf and nightlife destination that just opened at 446 West 14th Street by Washington Street in the Meatpacking District and is backed by, among others, Irish professional golfer Rory McIlroy. The first location of its kind in New York, Puttery spans 24,000 square feet over five levels that feature an underground lounge and a total of three bars, including a rooftop one that will be open year-round (yes, there will be heat lamps on site).\n",
            "84.The Big Bubble Experiment at NYSCI Beautiful, buoyant, beguiling bubbles are back at theNew York Hall of Science (NYSCI)in Queens. The beloved bubbles exhibit, which had been closed for five years, has returned bigger, better and bubblier than ever. The Big Bubble Experiment encourages kids of all ages to experiment and discover through the joy of playing with bubbles. That includes blowing, stretching, popping and looking closely to see what happens at each move. The exhibit features 10 stations, each one with different tools and methods for exploring bubble solution.\n"
          ]
        },
        {
          "name": "stderr",
          "output_type": "stream",
          "text": [
            "Creating embeddings:  85%|████████▍ | 84/99 [00:22<00:03,  4.44it/s]"
          ]
        },
        {
          "name": "stdout",
          "output_type": "stream",
          "text": [
            "85.The Friends Experience \"How you doin'?\" If you read that in Joey Tribbiani's voice, then you've got to get yourself to \"The FRIENDS Experience: The One in New York City.\" The immersive, walk-through experience in the Flatiron District features photo ops, props from the show, and Easter eggs at every turn. There’s a chance to pose with the \"Pivot\" couch, a backdrop that looks like the Vegas chapel, and a photo opp with Phoebe’s grandma's taxi. You can even pose on top of Pat the Dog, snap a photo with the giant poking device and take a selfie in Monica's apartment. Using high-quality cameras, staff take photos at each spot, which you can purchase at the end. But staff will also take free photos with your cell phone if you ask. It's not just a selfie museum, though. There's a fascinating display featuring the show's costume designer Debra McGuire where you'll learn about her sartorial choices for each character. Another exhibit spotlights artist Burton Morris, whose Pop art pieces decorate Central Perk. Other display cases feature set designs, signed scripts and a statement from the show's producers, Marta Kauffman and David Crane. Here'sour full review.\n"
          ]
        },
        {
          "name": "stderr",
          "output_type": "stream",
          "text": [
            "Creating embeddings:  86%|████████▌ | 85/99 [00:22<00:03,  4.22it/s]"
          ]
        },
        {
          "name": "stdout",
          "output_type": "stream",
          "text": [
            "86.Chamber Magic There's a reason Chamber Magic has remained a staple in NYC's magic scene for more than two decades: It dazzles, show after show, with tricks that'll still leave you awestruck days later. The charming Steve Cohen, billed as the Millionaires’ Magician, conjures high-class parlor magic in the marble-columned Madison Room at the swank Lotte New York Palace. Dress to be impressed (cocktail attire is required); tickets start at $125, with an option to pay more for meet-and-greet time and extra tricks with Cohen after the show. If you've come to see a classic-style magic act, you get what you pay for. Sporting a tuxedo and bright rust hair, the magician delivers routines that he has buffed to a patent-leather gleam: In addition to his signature act—\"Think-a-Drink,\" involving a kettle that pours liquids by request—highlights include a lulu of levitation trick and a card-trick finale that leaves you feeling like, well, a million bucks.\n"
          ]
        },
        {
          "name": "stderr",
          "output_type": "stream",
          "text": [
            "Creating embeddings:  87%|████████▋ | 86/99 [00:22<00:03,  4.04it/s]"
          ]
        },
        {
          "name": "stdout",
          "output_type": "stream",
          "text": [
            "87.Bonsai Bar The name really says it all: Make bonsai in a bar! These teeny tiny trees are the definition of \"happy little trees.\" The pros from Bonsai Bar will teach you the fundamental skills and techniques behind the art of bonsai while you sip your drink and have some fun with your friends. The teachers will also help you as you pot, prune and design your very own bonsai tree. Bonsai Bar events pop up all over the city at locations like Brooklyn Brewery, the Bronx Brewery and SingleCut Beersmiths Queens Taproom.\n"
          ]
        },
        {
          "name": "stderr",
          "output_type": "stream",
          "text": [
            "Creating embeddings:  88%|████████▊ | 87/99 [00:23<00:03,  3.96it/s]"
          ]
        },
        {
          "name": "stdout",
          "output_type": "stream",
          "text": [
            "88.Act & Sip NYC If you're not a paint-and-sip kind of person, try Act & Sip, a beer-fueled acting workshop in an Off-Broadway Theater with expert instructors. They pair students off with partners and hand over the pages to a scene from a well-known iconic NYC sitcom or movie, offering tips along the way to help performers conquer stage fright and discover their inner actor. This event is perfect for bachelorette parties, after-work outings, or just a fun night with friends to get on stage with a little help from liquid courage. You don't need any experience, but you must be 21 or older and BYOB.\n"
          ]
        },
        {
          "name": "stderr",
          "output_type": "stream",
          "text": [
            "Creating embeddings:  89%|████████▉ | 88/99 [00:23<00:02,  3.88it/s]"
          ]
        },
        {
          "name": "stdout",
          "output_type": "stream",
          "text": [
            "89.Wild Captives archery studio Wild Captives, the nation’s first female- and LGBTQ-owned archery studio, is now open. It's a place where everyone can \"be their own superhero.\" The studio in Brooklyn’s Industry City offers empowering and fun hour-long introduction to archery classes every weekend for $45/person. Each intro class includes a chance to learn about different parts of the bow and safety requirements. After the lesson, each participant gets a chance to shoot the bow trying to pop a balloon pinned onto the bullseye. Intro-to-archery classes are available each Friday, Saturday and Sunday,bookable onlinefor anyone over age 12.\n"
          ]
        },
        {
          "name": "stderr",
          "output_type": "stream",
          "text": [
            "Creating embeddings:  90%|████████▉ | 89/99 [00:23<00:02,  3.94it/s]"
          ]
        },
        {
          "name": "stdout",
          "output_type": "stream",
          "text": [
            "90.MoMA Before Hours Tour On a typical visit to theMuseum of Modern Art, crowds surround the most precious paintings, and it can be tough to squeeze your way in for a photo, let alone to admire the artwork’s brushstrokes. But now, thanks to these new exclusive tours byGetYourGuide, you can get in before the museum opens for a guided tour of amazing artwork. The new MoMA Before Hours Tour with Art Expert is available now;tickets are on sale herefor $99/person. Few New York City experiences compare to the absolute thrill of gazing at famed works of art uninterrupted for as long as you like.\n"
          ]
        },
        {
          "name": "stderr",
          "output_type": "stream",
          "text": [
            "Creating embeddings:  92%|█████████▏| 91/99 [00:24<00:01,  4.29it/s]"
          ]
        },
        {
          "name": "stdout",
          "output_type": "stream",
          "text": [
            "91.LOOK Dine-in Cinemas With a full restaurant, craft cocktails, comfy reclining seats and even more bells and whistles, this new movie theater in Hell's Kitchen elevates the movie-going experience. LOOK Dine-in Cinemas is now open in VIA 57 West, the pyramid-shaped building located at West 57th Street and 11th Avenue. With a 15-year lease, LOOK's operating in a 25,000-square-foot venue that used to house Landmark cinema until it closed in 2020. This is the company's first New York City location. At this fancy theater, you can relax in a heated seat while ordering dinner directly to your seat in the theater.\n",
            "92.Free Black Women's Library in Brooklyn Find your latest read atThe Free Black Women’s Library, a new free library in Brooklyn's Bed-Stuy neighborhood, which also serves as a social art project, a reading room, a co-working space and a community gathering center. The library \"celebrates the brilliance, diversity and imagination of Black women and Black non-binary authors.\" All 5,000 books in the library's collection are written by Black women and non-binary authors. Here's how it works: Anybody can visit the space to read, work or hang out. If you want to take a book home, simply bring a book written by a Black woman or Black non-binary author, and you can trade. Whether you decide to bring the book back after you're done reading or keep it for your collection is up to you. The library is currently open four days per week (Wednesday, Thursday, Saturday and Sunday) at 226 Marcus Garvey Boulevard. In addition to offering a space to read or work, the library has also hosts a book club, art shows and workshops on topics like writing, drawing, poetry, painting and sewing. All are welcome.\n"
          ]
        },
        {
          "name": "stderr",
          "output_type": "stream",
          "text": [
            "Creating embeddings:  93%|█████████▎| 92/99 [00:24<00:01,  4.24it/s]"
          ]
        },
        {
          "name": "stdout",
          "output_type": "stream",
          "text": [
            "93.Off-beat walking tours with Purefinder On a typical tour of Manhattan, the big tourist attractions—Times Square, the Empire State Building, Central Park—get all the attention. But on these new walking tours by a local author, you'll see fascinating historical sites that you won't find in a typical guidebook. K. Krombie's Purefinder tours, \"Death in New York,\" \"The Psychiatric History of New York\" and \"Hell Gate,\" explore the city's darker side through meticulously researched and theatrically presented historical narratives. Each tour covers about 2.5 miles in about two-and-a-half hours. “Death in New York” and “The Psychiatric History of New York” are offered weekly, while “Hell Gate” is offered twice per month. Tours cost $32-$34 per person;you can book one here.\n"
          ]
        },
        {
          "name": "stderr",
          "output_type": "stream",
          "text": [
            "Creating embeddings:  94%|█████████▍| 93/99 [00:24<00:01,  4.28it/s]"
          ]
        },
        {
          "name": "stdout",
          "output_type": "stream",
          "text": [
            "94.Museum of Broadway From amazing costumes to Broadway history to fun photo opps, this long-awaited new museum is a must-see for theater buffs. You can expect the new museum to highlight over 500 individual productions from the 1700s all the way to the present. Among the standout offerings will also be a special exhibit dubbed \"The Making of a Broadway Show,\" which honors the on- and off-stage community that helps bring plays and musicals to life multiple times a week.\n"
          ]
        },
        {
          "name": "stderr",
          "output_type": "stream",
          "text": [
            "Creating embeddings:  96%|█████████▌| 95/99 [00:25<00:00,  4.46it/s]"
          ]
        },
        {
          "name": "stdout",
          "output_type": "stream",
          "text": [
            "95.NYPL's free exhibit of rare artifacts The New York Public Library dug through its expansive and centuries-spanning archive to stage an impressive free exhibition filled with cultural artifacts. \"The Polonsky Exhibition of New York Public Library’s Treasures\"spans 4,000 years of history and includes a wide range of history-making pieces, including the only surviving letter from Christoper Columbus announcing his “discovery” of the Americas to King Ferdinand’s court and the first Gutenberg Bible brought over to the Americas. New treasures were just added to the exhibit this fall, including asigned, first edition copy of \"Passing\" by Nella Larsen, a selection of manuscript pages from \"The Waste Land\" by T.S. Eliot, and a miniature early 19th-century Qur’an, produced in Turkey.\n",
            "96.Sloomoo Institute slime museum Part visual splendor, part olfactory wonder and part ooey-gooey sensory fun,Sloomoo Institute’s slime museumre-opened this fall after a renovation. This captivating playground welcomes all ages to its home in SoHo—or “SooHoo,” in Sloomoo parlance (see what they did there?). Here are five thingsnot to miss at Sloomoo, including a chance to get slimed and a DIY slime making activity.\n"
          ]
        },
        {
          "name": "stderr",
          "output_type": "stream",
          "text": [
            "Creating embeddings:  97%|█████████▋| 96/99 [00:25<00:00,  4.36it/s]"
          ]
        },
        {
          "name": "stdout",
          "output_type": "stream",
          "text": [
            "97.Swingers NoMad A bucolic 1920s English country golf club is on its way to NYC's concrete jungle! But with a twist.Swingers NoMad, a \"crazy mini-golf course\" and entertainment complex straight from London brought with it three nine-hole golf courses across 23,000 square feet under 20-foot-high ceilings. \"Crazy golf\" is a British spin on mini-golf, but it's for a 21-and-over audience since craft cocktails are served by caddies on the course. Plus, there are plenty of food options to pair with your drinks.\n"
          ]
        },
        {
          "name": "stderr",
          "output_type": "stream",
          "text": [
            "Creating embeddings:  98%|█████████▊| 97/99 [00:25<00:00,  4.23it/s]"
          ]
        },
        {
          "name": "stdout",
          "output_type": "stream",
          "text": [
            "98.The Brooklyn Flea (Dumbo) The Brooklyn Flea is undoubtedly one of the most popularflea marketsto hit in NYC if you're looking for the best selection of throwback wares and records, which you certainly wouldn’t find in just anyvintage clothing storeorrecord storein the city. The food selection is also top-notch since the creators also operate one of the city’s best food markets:Smorgasburg. The Brooklyn Flea DUMBO is now open for the season. Brooklyn Flea also operates in Chelsea year-round on Saturdays and Sundays.\n"
          ]
        },
        {
          "name": "stderr",
          "output_type": "stream",
          "text": [
            "Creating embeddings: 100%|██████████| 99/99 [00:26<00:00,  3.81it/s]\n"
          ]
        },
        {
          "name": "stdout",
          "output_type": "stream",
          "text": [
            "99.Shake Rattle & Roll Dueling Pianos Every Saturday night, two piano men battle it out to prove who is truly the master of all 88 keys, with a playlist decided entirely by the audience. Whether you’re in the mood for Billy Joel, Christina Aguilera or current chart toppers, these pianists are up for the challenge. But they expect you to do your part by singing along, but from home.Grab a ticket and request songs in advance.\n",
            "\n",
            "✅ Created 99 embeddings\n",
            "Embedding shape: (99, 1536)\n"
          ]
        }
      ],
      "source": [
        "# Create text for embedding (title + description)\n",
        "df['embedding_text'] = df['title'] + \" \" + df['description']\n",
        "\n",
        "# Generate embeddings for all events\n",
        "print(\"Generating embeddings for all events...\")\n",
        "print(\"This will take ~1-2 minutes for 100 events.\\n\")\n",
        "\n",
        "embeddings = []\n",
        "\n",
        "for idx, row in tqdm(df.iterrows(), total=len(df), desc=\"Creating embeddings\"):\n",
        "    embedding_text = row['embedding_text']\n",
        "    print(embedding_text)\n",
        "    embedding = create_embedding(row['embedding_text'])\n",
        "    embeddings.append(embedding)\n",
        "    \n",
        "    # Rate limiting\n",
        "    time.sleep(0.05)\n",
        "\n",
        "# Convert to numpy array\n",
        "embeddings_array = np.array(embeddings)\n",
        "\n",
        "print(f\"\\n✅ Created {len(embeddings)} embeddings\")\n",
        "print(f\"Embedding shape: {embeddings_array.shape}\")\n"
      ]
    },
    {
      "cell_type": "markdown",
      "metadata": {},
      "source": [
        "## 4. Save Processed Data\n",
        "\n",
        "Save the enriched data and embeddings to disk.\n"
      ]
    },
    {
      "cell_type": "code",
      "execution_count": 10,
      "metadata": {},
      "outputs": [
        {
          "name": "stdout",
          "output_type": "stream",
          "text": [
            "✅ Saved processed data to:\n",
            "  - CSV: ../data/processed/events_with_metadata.csv\n",
            "  - Embeddings: ../data/processed/embeddings.npy\n",
            "\n",
            "File sizes:\n",
            "  - CSV: 83.3 KB\n",
            "  - Embeddings: 1188.1 KB\n"
          ]
        }
      ],
      "source": [
        "# Create processed directory if it doesn't exist\n",
        "processed_dir = Path(\"../data/processed\")\n",
        "processed_dir.mkdir(parents=True, exist_ok=True)\n",
        "\n",
        "# Save CSV (without embeddings - too large)\n",
        "csv_path = processed_dir / \"events_with_metadata.csv\"\n",
        "df_to_save = df.drop(columns=['embedding_text'])  # Remove temporary column\n",
        "df_to_save.to_csv(csv_path, index=False)\n",
        "\n",
        "# Save embeddings as numpy array\n",
        "embeddings_path = processed_dir / \"embeddings.npy\"\n",
        "np.save(embeddings_path, embeddings_array)\n",
        "\n",
        "print(f\"✅ Saved processed data to:\")\n",
        "print(f\"  - CSV: {csv_path}\")\n",
        "print(f\"  - Embeddings: {embeddings_path}\")\n",
        "print(f\"\\nFile sizes:\")\n",
        "print(f\"  - CSV: {csv_path.stat().st_size / 1024:.1f} KB\")\n",
        "print(f\"  - Embeddings: {embeddings_path.stat().st_size / 1024:.1f} KB\")\n"
      ]
    },
    {
      "cell_type": "markdown",
      "metadata": {},
      "source": [
        "## 5. Initialize Qdrant & Upload Events\n",
        "\n",
        "Set up Qdrant vector database and upload all events with embeddings and metadata.\n",
        "\n",
        "**✅✅✅ Vector Database Setup:**\n",
        "- Using Qdrant local mode (no server needed)\n",
        "- 1536-dimensional vectors (OpenAI embedding size)\n",
        "- Cosine similarity for semantic search\n",
        "- Metadata fields: event_id, title, description, url, baby_friendly\n"
      ]
    },
    {
      "cell_type": "code",
      "execution_count": 11,
      "metadata": {},
      "outputs": [
        {
          "name": "stdout",
          "output_type": "stream",
          "text": [
            "Deleted existing collection 'nyc_events'\n",
            "\n",
            "✅ Created collection 'nyc_events'\n"
          ]
        }
      ],
      "source": [
        "# Initialize Qdrant client (local mode)\n",
        "qdrant_client = QdrantClient(path=\"../local_qdrant\")\n",
        "\n",
        "collection_name = \"nyc_events\"\n",
        "\n",
        "# Delete collection if it exists (fresh start)\n",
        "try:\n",
        "    qdrant_client.delete_collection(collection_name)\n",
        "    print(f\"Deleted existing collection '{collection_name}'\")\n",
        "except:\n",
        "    print(f\"Collection '{collection_name}' doesn't exist yet\")\n",
        "\n",
        "# Create new collection\n",
        "qdrant_client.create_collection(\n",
        "    collection_name=collection_name,\n",
        "    vectors_config=VectorParams(\n",
        "        size=1536,  # OpenAI text-embedding-3-small dimension\n",
        "        distance=Distance.COSINE\n",
        "    )\n",
        ")\n",
        "\n",
        "print(f\"\\n✅ Created collection '{collection_name}'\")\n"
      ]
    },
    {
      "cell_type": "code",
      "execution_count": 12,
      "metadata": {},
      "outputs": [
        {
          "name": "stdout",
          "output_type": "stream",
          "text": [
            "Uploading 99 events to Qdrant...\n",
            "\n",
            "✅ Successfully uploaded 99 events to Qdrant!\n",
            "\n",
            "Collection info:\n",
            "  - Vectors count: None\n",
            "  - Points count: 99\n"
          ]
        }
      ],
      "source": [
        "# Prepare points for upload\n",
        "points = []\n",
        "\n",
        "for idx, row in df.iterrows():\n",
        "    point = PointStruct(\n",
        "        id=idx,  # Use DataFrame index as ID\n",
        "        vector=embeddings[idx],\n",
        "        payload={\n",
        "            \"event_id\": row['event_id'],\n",
        "            \"title\": row['title'],\n",
        "            \"description\": row['description'],\n",
        "            \"url\": row['url'],\n",
        "            \"baby_friendly\": bool(row['baby_friendly'])  # Ensure boolean type\n",
        "        }\n",
        "    )\n",
        "    points.append(point)\n",
        "\n",
        "# Upload to Qdrant\n",
        "print(f\"Uploading {len(points)} events to Qdrant...\")\n",
        "qdrant_client.upsert(\n",
        "    collection_name=collection_name,\n",
        "    points=points\n",
        ")\n",
        "\n",
        "print(f\"\\n✅ Successfully uploaded {len(points)} events to Qdrant!\")\n",
        "\n",
        "# Verify collection info\n",
        "collection_info = qdrant_client.get_collection(collection_name)\n",
        "print(f\"\\nCollection info:\")\n",
        "print(f\"  - Vectors count: {collection_info.vectors_count}\")\n",
        "print(f\"  - Points count: {collection_info.points_count}\")\n"
      ]
    },
    {
      "cell_type": "markdown",
      "metadata": {},
      "source": [
        "## 6. Test Retrieval\n",
        "\n",
        "Test semantic search and metadata filtering.\n"
      ]
    },
    {
      "cell_type": "code",
      "execution_count": 13,
      "metadata": {},
      "outputs": [
        {
          "name": "stdout",
          "output_type": "stream",
          "text": [
            "✅ Search function defined!\n"
          ]
        }
      ],
      "source": [
        "def search_events(query: str, top_k: int = 5, baby_friendly_only: bool = False):\n",
        "    \"\"\"\n",
        "    Search for events using semantic similarity.\n",
        "    \n",
        "    Args:\n",
        "        query: Search query\n",
        "        top_k: Number of results to return\n",
        "        baby_friendly_only: If True, only return baby-friendly events\n",
        "    \n",
        "    Returns:\n",
        "        List of search results\n",
        "    \"\"\"\n",
        "    # Create embedding for query\n",
        "    query_embedding = create_embedding(query)\n",
        "    \n",
        "    # Prepare filter if needed\n",
        "    search_filter = None\n",
        "    if baby_friendly_only:\n",
        "        from qdrant_client.models import Filter, FieldCondition, MatchValue\n",
        "        search_filter = Filter(\n",
        "            must=[\n",
        "                FieldCondition(\n",
        "                    key=\"baby_friendly\",\n",
        "                    match=MatchValue(value=True)\n",
        "                )\n",
        "            ]\n",
        "        )\n",
        "    \n",
        "    # Search Qdrant\n",
        "    results = qdrant_client.search(\n",
        "        collection_name=collection_name,\n",
        "        query_vector=query_embedding,\n",
        "        query_filter=search_filter,\n",
        "        limit=top_k\n",
        "    )\n",
        "    \n",
        "    return results\n",
        "\n",
        "print(\"✅ Search function defined!\")\n"
      ]
    },
    {
      "cell_type": "code",
      "execution_count": 14,
      "metadata": {},
      "outputs": [
        {
          "name": "stdout",
          "output_type": "stream",
          "text": [
            "Query: 'fun outdoor activity for kids'\n",
            "\n",
            "1. 69.Laser tag at mini-bowling at Area 53\n",
            "   Score: 0.367\n",
            "   Baby-friendly: False\n",
            "   Description: Tucked away on Bridge Street in an old factory basement, this two-story playscape for kidsandadults ...\n",
            "\n",
            "2. 16.Bronx Zoo Harvest Glow\n",
            "   Score: 0.307\n",
            "   Baby-friendly: True\n",
            "   Description: The only thing better than the Bronx Zoo is the Bronx Zoo at night. The famed zoo's annual family-fr...\n",
            "\n",
            "3. 15.Ascarium at the New York Aquarium\n",
            "   Score: 0.303\n",
            "   Baby-friendly: True\n",
            "   Description: Celebrate the season with under-the-sea animals at the New York Aquarium's Ascarium. Kids can enjoy ...\n",
            "\n",
            "4. 89.Wild Captives archery studio\n",
            "   Score: 0.291\n",
            "   Baby-friendly: False\n",
            "   Description: Wild Captives, the nation’s first female- and LGBTQ-owned archery studio, is now open. It's a place ...\n",
            "\n",
            "5. 7.Longest Table at Gotham Park\n",
            "   Score: 0.277\n",
            "   Baby-friendly: True\n",
            "   Description: Clear your calendar, grab your casserole dish and prepare to dine al fresco under one of New York’s ...\n",
            "\n"
          ]
        },
        {
          "name": "stderr",
          "output_type": "stream",
          "text": [
            "/var/folders/36/s6cm4m0959x3z451g1xvcyy40000gn/T/ipykernel_37284/339131513.py:30: DeprecationWarning: `search` method is deprecated and will be removed in the future. Use `query_points` instead.\n",
            "  results = qdrant_client.search(\n"
          ]
        }
      ],
      "source": [
        "# Test 1: General search\n",
        "query1 = \"fun outdoor activity for kids\"\n",
        "print(f\"Query: '{query1}'\\n\")\n",
        "\n",
        "results1 = search_events(query1, top_k=5)\n",
        "\n",
        "for i, result in enumerate(results1, 1):\n",
        "    print(f\"{i}. {result.payload['title']}\")\n",
        "    print(f\"   Score: {result.score:.3f}\")\n",
        "    print(f\"   Baby-friendly: {result.payload['baby_friendly']}\")\n",
        "    print(f\"   Description: {result.payload['description'][:100]}...\\n\")\n"
      ]
    },
    {
      "cell_type": "code",
      "execution_count": 15,
      "metadata": {},
      "outputs": [
        {
          "name": "stdout",
          "output_type": "stream",
          "text": [
            "Query: 'art museum' (baby-friendly only)\n",
            "\n",
            "1. 43.Arte Museum\n",
            "   Score: 0.568\n",
            "   Baby-friendly: True\n",
            "   Description: Lose yourself in immersive digital art, evocative soundscapes and custom-crafted scents at the new A...\n",
            "\n",
            "2. 72.The newly renovated Rockefeller Wing at The Met\n",
            "   Score: 0.432\n",
            "   Baby-friendly: True\n",
            "   Description: After a four-year renovation, The Metropolitan Museum of Art has reopened its galleries dedicated to...\n",
            "\n",
            "3. 65.\"Breaking the Mold: Brooklyn Museum at 200\" exhibit\n",
            "   Score: 0.410\n",
            "   Baby-friendly: True\n",
            "   Description: The Brooklyn Museum is celebrating a big birthday. As the museum turns 200, it’s marking the occasio...\n",
            "\n",
            "4. 25.\"Monet and Venice\" at Brooklyn Museum\n",
            "   Score: 0.383\n",
            "   Baby-friendly: True\n",
            "   Description: For those who have long romanticized the floating city of Venice, theBrooklyn Museum's new exhibit w...\n",
            "\n",
            "5. 56.“Foot Fountain (pink)”\n",
            "   Score: 0.368\n",
            "   Baby-friendly: True\n",
            "   Description: There’s a sculpture on the High Line right now that’s causing some folks to question the content of ...\n",
            "\n"
          ]
        },
        {
          "name": "stderr",
          "output_type": "stream",
          "text": [
            "/var/folders/36/s6cm4m0959x3z451g1xvcyy40000gn/T/ipykernel_37284/339131513.py:30: DeprecationWarning: `search` method is deprecated and will be removed in the future. Use `query_points` instead.\n",
            "  results = qdrant_client.search(\n"
          ]
        }
      ],
      "source": [
        "# Test 2: Baby-friendly filtered search\n",
        "query2 = \"art museum\"\n",
        "print(f\"Query: '{query2}' (baby-friendly only)\\n\")\n",
        "\n",
        "results2 = search_events(query2, top_k=5, baby_friendly_only=True)\n",
        "\n",
        "for i, result in enumerate(results2, 1):\n",
        "    print(f\"{i}. {result.payload['title']}\")\n",
        "    print(f\"   Score: {result.score:.3f}\")\n",
        "    print(f\"   Baby-friendly: {result.payload['baby_friendly']}\")\n",
        "    print(f\"   Description: {result.payload['description'][:100]}...\\n\")\n"
      ]
    },
    {
      "cell_type": "code",
      "execution_count": 16,
      "metadata": {},
      "outputs": [
        {
          "name": "stdout",
          "output_type": "stream",
          "text": [
            "Query: 'romantic date night'\n",
            "\n",
            "✅✅✅ Note: No explicit mood tags needed! Semantic search captures vibe naturally.\n",
            "\n",
            "1. 41.Latin Mix Saturdays\n",
            "   Score: 0.322\n",
            "   Baby-friendly: False\n",
            "   Description: Experience the ultimate Saturday night at Time Out Market’s Rooftop Latin Mix Party! Join resident D...\n",
            "\n",
            "2. 57.Rooftop Cinema Club\n",
            "   Score: 0.316\n",
            "   Baby-friendly: False\n",
            "   Description: Rooftop Cinema Club takes movie-going to a whole new level—literally. This rooftop film series at a ...\n",
            "\n",
            "3. 34.Handmade Happy Hour\n",
            "   Score: 0.314\n",
            "   Baby-friendly: False\n",
            "   Description: Get your hands dirty and jump into the world of ceramics with Handmade Happy Hour—Greenwich House Po...\n",
            "\n",
            "4. 79.Friday Night Vibes at Time Out Market\n",
            "   Score: 0.311\n",
            "   Baby-friendly: False\n",
            "   Description: Start your weekend off right at Time Out Market New York’s stunning rooftop! Friday Night Vibes gets...\n",
            "\n",
            "5. 88.Act & Sip NYC\n",
            "   Score: 0.308\n",
            "   Baby-friendly: False\n",
            "   Description: If you're not a paint-and-sip kind of person, try Act & Sip, a beer-fueled acting workshop in an Off...\n",
            "\n"
          ]
        },
        {
          "name": "stderr",
          "output_type": "stream",
          "text": [
            "/var/folders/36/s6cm4m0959x3z451g1xvcyy40000gn/T/ipykernel_37284/339131513.py:30: DeprecationWarning: `search` method is deprecated and will be removed in the future. Use `query_points` instead.\n",
            "  results = qdrant_client.search(\n"
          ]
        }
      ],
      "source": [
        "# Test 3: Semantic search (mood/vibe)\n",
        "query3 = \"romantic date night\"\n",
        "print(f\"Query: '{query3}'\\n\")\n",
        "print(\"✅✅✅ Note: No explicit mood tags needed! Semantic search captures vibe naturally.\\n\")\n",
        "\n",
        "results3 = search_events(query3, top_k=5)\n",
        "\n",
        "for i, result in enumerate(results3, 1):\n",
        "    print(f\"{i}. {result.payload['title']}\")\n",
        "    print(f\"   Score: {result.score:.3f}\")\n",
        "    print(f\"   Baby-friendly: {result.payload['baby_friendly']}\")\n",
        "    print(f\"   Description: {result.payload['description'][:100]}...\\n\")\n"
      ]
    },
    {
      "cell_type": "code",
      "execution_count": 18,
      "metadata": {},
      "outputs": [
        {
          "name": "stdout",
          "output_type": "stream",
          "text": [
            "Creating vector_store.py utility module...\n",
            "✅ Created ../backend/vector_store.py\n",
            "\n",
            "Module includes:\n",
            "  - VectorStore class\n",
            "  - initialize_collection()\n",
            "  - upload_events()\n",
            "  - search_events()\n",
            "  - create_embedding()\n",
            "  - get_collection_info()\n"
          ]
        }
      ],
      "source": [
        "# Create backend directory if it doesn't exist\n",
        "backend_dir = Path(\"../backend\")\n",
        "backend_dir.mkdir(parents=True, exist_ok=True)\n",
        "\n",
        "print(\"Creating vector_store.py utility module...\")\n",
        "\n",
        "vector_store_code = '''\"\"\"Vector store operations for NYC Event Recommender.\n",
        "\n",
        "This module handles all interactions with the Qdrant vector database,\n",
        "including initialization, uploading events, and searching.\n",
        "\"\"\"\n",
        "\n",
        "from typing import List, Optional, Dict, Any\n",
        "from qdrant_client import QdrantClient\n",
        "from qdrant_client.models import (\n",
        "    Distance,\n",
        "    VectorParams,\n",
        "    PointStruct,\n",
        "    Filter,\n",
        "    FieldCondition,\n",
        "    MatchValue\n",
        ")\n",
        "from openai import OpenAI\n",
        "import os\n",
        "\n",
        "\n",
        "class VectorStore:\n",
        "    \"\"\"Manages vector database operations for event search.\"\"\"\n",
        "    \n",
        "    def __init__(self, path: str = \"./local_qdrant\", collection_name: str = \"nyc_events\"):\n",
        "        \"\"\"Initialize vector store.\n",
        "        \n",
        "        Args:\n",
        "            path: Path to local Qdrant storage\n",
        "            collection_name: Name of the collection to use\n",
        "        \"\"\"\n",
        "        self.client = QdrantClient(path=path)\n",
        "        self.collection_name = collection_name\n",
        "        self.openai_client = OpenAI(api_key=os.getenv(\"OPENAI_API_KEY\"))\n",
        "    \n",
        "    def initialize_collection(self, vector_size: int = 1536) -> None:\n",
        "        \"\"\"Create or recreate the collection.\n",
        "        \n",
        "        Args:\n",
        "            vector_size: Dimension of embedding vectors\n",
        "        \"\"\"\n",
        "        # Delete if exists\n",
        "        try:\n",
        "            self.client.delete_collection(self.collection_name)\n",
        "        except:\n",
        "            pass\n",
        "        \n",
        "        # Create new collection\n",
        "        self.client.create_collection(\n",
        "            collection_name=self.collection_name,\n",
        "            vectors_config=VectorParams(\n",
        "                size=vector_size,\n",
        "                distance=Distance.COSINE\n",
        "            )\n",
        "        )\n",
        "    \n",
        "    def upload_events(self, events: List[Dict[str, Any]], embeddings: List[List[float]]) -> None:\n",
        "        \"\"\"Upload events with embeddings to vector store.\n",
        "        \n",
        "        Args:\n",
        "            events: List of event dictionaries with metadata\n",
        "            embeddings: List of embedding vectors\n",
        "        \"\"\"\n",
        "        points = []\n",
        "        for idx, (event, embedding) in enumerate(zip(events, embeddings)):\n",
        "            point = PointStruct(\n",
        "                id=idx,\n",
        "                vector=embedding,\n",
        "                payload=event\n",
        "            )\n",
        "            points.append(point)\n",
        "        \n",
        "        self.client.upsert(\n",
        "            collection_name=self.collection_name,\n",
        "            points=points\n",
        "        )\n",
        "    \n",
        "    def create_embedding(self, text: str) -> List[float]:\n",
        "        \"\"\"Create embedding for text using OpenAI.\n",
        "        \n",
        "        Args:\n",
        "            text: Text to embed\n",
        "        \n",
        "        Returns:\n",
        "            List of floats representing the embedding vector\n",
        "        \"\"\"\n",
        "        response = self.openai_client.embeddings.create(\n",
        "            model=\"text-embedding-3-small\",\n",
        "            input=text\n",
        "        )\n",
        "        return response.data[0].embedding\n",
        "    \n",
        "    def search_events(\n",
        "        self,\n",
        "        query: str,\n",
        "        top_k: int = 10,\n",
        "        filters: Optional[Dict[str, Any]] = None\n",
        "    ) -> List[Dict[str, Any]]:\n",
        "        \"\"\"Search for events using semantic similarity.\n",
        "        \n",
        "        Args:\n",
        "            query: Search query string\n",
        "            top_k: Number of results to return\n",
        "            filters: Optional metadata filters, e.g. {\"baby_friendly\": True}\n",
        "        \n",
        "        Returns:\n",
        "            List of search results with scores and payloads\n",
        "        \"\"\"\n",
        "        # Create query embedding\n",
        "        query_embedding = self.create_embedding(query)\n",
        "        \n",
        "        # Build filter if provided\n",
        "        search_filter = None\n",
        "        if filters:\n",
        "            conditions = []\n",
        "            for key, value in filters.items():\n",
        "                conditions.append(\n",
        "                    FieldCondition(\n",
        "                        key=key,\n",
        "                        match=MatchValue(value=value)\n",
        "                    )\n",
        "                )\n",
        "            if conditions:\n",
        "                search_filter = Filter(must=conditions)\n",
        "        \n",
        "        # Search\n",
        "        results = self.client.search(\n",
        "            collection_name=self.collection_name,\n",
        "            query_vector=query_embedding,\n",
        "            query_filter=search_filter,\n",
        "            limit=top_k\n",
        "        )\n",
        "        \n",
        "        # Format results\n",
        "        formatted_results = []\n",
        "        for result in results:\n",
        "            formatted_results.append({\n",
        "                \"score\": result.score,\n",
        "                \"event\": result.payload\n",
        "            })\n",
        "        \n",
        "        return formatted_results\n",
        "    \n",
        "    def get_collection_info(self) -> Dict[str, Any]:\n",
        "        \"\"\"Get information about the collection.\n",
        "        \n",
        "        Returns:\n",
        "            Dictionary with collection statistics\n",
        "        \"\"\"\n",
        "        info = self.client.get_collection(self.collection_name)\n",
        "        return {\n",
        "            \"vectors_count\": info.vectors_count,\n",
        "            \"points_count\": info.points_count,\n",
        "            \"status\": info.status\n",
        "        }\n",
        "'''\n",
        "\n",
        "# Write to file\n",
        "vector_store_path = backend_dir / \"vector_store.py\"\n",
        "vector_store_path.write_text(vector_store_code)\n",
        "\n",
        "print(f\"✅ Created {vector_store_path}\")\n",
        "print(f\"\\nModule includes:\")\n",
        "print(\"  - VectorStore class\")\n",
        "print(\"  - initialize_collection()\")\n",
        "print(\"  - upload_events()\")\n",
        "print(\"  - search_events()\")\n",
        "print(\"  - create_embedding()\")\n",
        "print(\"  - get_collection_info()\")\n"
      ]
    },
    {
      "cell_type": "markdown",
      "metadata": {},
      "source": [
        "## Summary & Next Steps\n",
        "\n",
        "### ✅ Completed Tasks:\n",
        "\n",
        "1. **Loaded raw data** from Notebook 1\n",
        "2. **Extracted baby-friendly metadata** using GPT-4 Mini\n",
        "   - Simple boolean flag: suitable for infants/toddlers\n",
        "   - No mood or energy tags needed!\n",
        "3. **Generated embeddings** using OpenAI text-embedding-3-small\n",
        "   - 1536-dimensional vectors\n",
        "   - Combined title + description for rich semantics\n",
        "4. **Saved processed data**\n",
        "   - CSV: `data/processed/events_with_metadata.csv`\n",
        "   - Embeddings: `data/processed/embeddings.npy`\n",
        "5. **Initialized Qdrant** vector database\n",
        "   - Local mode (no server needed)\n",
        "   - Cosine similarity search\n",
        "6. **Uploaded all events** with metadata\n",
        "7. **Tested retrieval** with multiple queries\n",
        "   - General semantic search ✅\n",
        "   - Baby-friendly filtering ✅\n",
        "   - Mood/vibe queries ✅\n",
        "8. **Created utility module** (`backend/vector_store.py`)\n",
        "\n",
        "### 📊 Results:\n",
        "\n",
        "- **Events processed:** Check cell output above\n",
        "- **Baby-friendly events:** Check percentage above\n",
        "- **Vector database:** Operational and ready\n",
        "- **Search quality:** Semantic search captures nuance without explicit tags!\n",
        "\n",
        "### 🎯 Next Steps:\n",
        "\n",
        "**Move to Notebook 3:** Agentic RAG Pipeline\n",
        "- Build 2-agent system (Retrieval + Response)\n",
        "- Create FastAPI backend\n",
        "- Implement LangSmith logging\n",
        "- Test end-to-end queries\n",
        "\n",
        "---\n",
        "\n",
        "**✅✅✅ Key Insight:** By keeping metadata extraction simple (just baby-friendly), we saved significant time while still enabling powerful semantic search. The embeddings naturally capture mood, vibe, and context without explicit tagging!\n"
      ]
    }
  ],
  "metadata": {
    "kernelspec": {
      "display_name": ".venv",
      "language": "python",
      "name": "python3"
    },
    "language_info": {
      "codemirror_mode": {
        "name": "ipython",
        "version": 3
      },
      "file_extension": ".py",
      "mimetype": "text/x-python",
      "name": "python",
      "nbconvert_exporter": "python",
      "pygments_lexer": "ipython3",
      "version": "3.10.0"
    }
  },
  "nbformat": 4,
  "nbformat_minor": 2
}
